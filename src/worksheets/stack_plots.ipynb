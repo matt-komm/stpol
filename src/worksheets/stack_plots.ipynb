{
 "metadata": {
  "name": ""
 },
 "nbformat": 3,
 "nbformat_minor": 0,
 "worksheets": [
  {
   "cells": [
    {
     "cell_type": "code",
     "collapsed": true,
     "input": [
      "%time %run plots/load_histos2.py"
     ],
     "language": "python",
     "metadata": {},
     "outputs": []
    },
    {
     "cell_type": "code",
     "collapsed": false,
     "input": [
      "from plots.common.mpl_tdrstyle import plt\n",
      "from plots.common.hist_plots import hist_err\n",
      "from rootpy.plotting import Hist\n",
      "%matplotlib inline\n",
      "%pylab inline\n",
      "\n",
      "def draw_hist(hists, **kwargs):\n",
      "    fig = plt.figure(figsize=(10,10))\n",
      "    ax = plt.axes()\n",
      "    legitems = []\n",
      "    if isinstance(hists, dict):\n",
      "        hlist = hists.items()\n",
      "    elif isinstance(hists, list):\n",
      "        hlist = [(h.GetTitle(), h) for h in hists]\n",
      "    \n",
      "    for hn, h in hlist:\n",
      "        h = h.Clone()\n",
      "        #h.Scale(1.0/h.Integral())\n",
      "        hi = hist_err(ax, h, **kwargs)\n",
      "        legitems.append(hn)\n",
      "    \n",
      "    leg = ax.legend(legitems)\n",
      "    return ax"
     ],
     "language": "python",
     "metadata": {},
     "outputs": []
    },
    {
     "cell_type": "code",
     "collapsed": false,
     "input": [
      "!rm temp.pickle"
     ],
     "language": "python",
     "metadata": {},
     "outputs": []
    },
    {
     "cell_type": "code",
     "collapsed": false,
     "input": [
      "mnomtb = syst_scenarios[\"Tbar_t_ToLeptons\"][\"nominal\"][None].Clone()\n",
      "mdowntb = syst_scenarios[\"Tbar_t_ToLeptons\"][\"mass\"][\"down\"].Clone()\n",
      "muptb = syst_scenarios[\"Tbar_t_ToLeptons\"][\"mass\"][\"up\"].Clone()\n",
      "\n",
      "mnomt = syst_scenarios[\"T_t_ToLeptons\"][\"nominal\"][None].Clone()\n",
      "mdownt = syst_scenarios[\"T_t_ToLeptons\"][\"mass\"][\"down\"].Clone()\n",
      "mupt = syst_scenarios[\"T_t_ToLeptons\"][\"mass\"][\"up\"].Clone()\n",
      "\n",
      "mnomtb.SetTitle(\"nominal tb\")\n",
      "muptb.SetTitle(\"mass up tb\")\n",
      "mdowntb.SetTitle(\"mass down tb\")\n",
      "\n",
      "mnomt.SetTitle(\"nominal t\")\n",
      "mdownt.SetTitle(\"mass down t\")\n",
      "mupt.SetTitle(\"mass up t\")\n",
      "\n",
      "for h in [mnomtb, mdowntb, muptb, mnomt, mdownt, mupt]:\n",
      "    h.Rebin(5)\n",
      "    h.__class__= Hist\n",
      "    h._post_init()\n",
      "    print h.Integral(), h.GetEntries()\n",
      "\n",
      "    \n",
      "mdown = mdowntb+mdownt\n",
      "mdown.SetTitle(\"mass down\")\n",
      "mnom = mnomtb+mnomt\n",
      "mnom.SetTitle(\"nominal\")\n",
      "\n",
      "mup = muptb+mupt\n",
      "mup.SetTitle(\"mass up\")\n",
      "\n",
      "#hrdown = (mdown - mnom)/mnom\n",
      "#hrup = (mup - mnom)/mnom"
     ],
     "language": "python",
     "metadata": {},
     "outputs": []
    },
    {
     "cell_type": "code",
     "collapsed": false,
     "input": [
      "ax = draw_hist([mdown/mnom, mup/mnom], linewidth=2)\n",
      "ax.axhline(1.0, color=\"black\", linewidth=1)\n",
      "ax.grid(which=\"both\")\n",
      "ax.set_ylabel(\"variation / nominal\", fontsize=16)\n",
      "ax.set_xlabel(r\"$|\\eta_{j'}|$\", fontsize=16)"
     ],
     "language": "python",
     "metadata": {},
     "outputs": []
    },
    {
     "cell_type": "code",
     "collapsed": false,
     "input": [
      "ax = draw_hist([mup, mnom, mdown], linewidth=2)\n",
      "ax.axhline(0, color=\"black\")\n",
      "ax.grid(which=\"both\")\n",
      "ax.semilogy()\n",
      "#ax.set_ylabel(\"(variation-nominal) / nominal\", fontsize=16)\n",
      "ax.set_xlabel(r\"$|\\eta_{j'}|$\", fontsize=16)"
     ],
     "language": "python",
     "metadata": {},
     "outputs": []
    },
    {
     "cell_type": "code",
     "collapsed": false,
     "input": [
      "hists[\"cos_theta\"][\"unweighted\"][None]['data']"
     ],
     "language": "python",
     "metadata": {},
     "outputs": []
    },
    {
     "cell_type": "code",
     "collapsed": false,
     "input": [],
     "language": "python",
     "metadata": {},
     "outputs": []
    }
   ],
   "metadata": {}
  }
 ]
}