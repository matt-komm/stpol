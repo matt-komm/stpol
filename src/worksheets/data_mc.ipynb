{
 "metadata": {
  "name": ""
 },
 "nbformat": 3,
 "nbformat_minor": 0,
 "worksheets": [
  {
   "cells": [
    {
     "cell_type": "heading",
     "level": 2,
     "metadata": {},
     "source": [
      "Setup"
     ]
    },
    {
     "cell_type": "code",
     "collapsed": true,
     "input": [
      "from plots.common.hist_plots import ipy_show_canv\n",
      "from plots.syst_band import PlotDef, data_mc_plot, logger\n",
      "logger.setLevel(\"INFO\")\n",
      "from plots.common.cross_sections import lumis\n",
      "from plots.common.tdrstyle import tdrstyle\n",
      "tdrstyle()"
     ],
     "language": "python",
     "metadata": {},
     "outputs": [
      {
       "metadata": {},
       "output_type": "pyout",
       "prompt_number": 1,
       "text": [
        "1"
       ]
      }
     ],
     "prompt_number": 1
    },
    {
     "cell_type": "heading",
     "level": 2,
     "metadata": {},
     "source": [
      "Scale factors"
     ]
    },
    {
     "cell_type": "code",
     "collapsed": false,
     "input": [
      "from plots.fit_scale_factors import fitpars_process\n",
      "from plots.qcd_scale_factors import load_qcd_sf\n",
      "\n",
      "#Determined from the QCD fit\n",
      "qcd_mt_fit_sfs = dict()\n",
      "qcd_mt_fit_sfs['mu'] = load_qcd_sf('mu', 50)\n",
      "qcd_mt_fit_sfs['ele'] = load_qcd_sf('ele', 45)\n",
      "\n",
      "#Determined as the ratio of the integral of anti-iso data after full selection / full selection minus MVA\n",
      "#See qcd_scale_factors.ipynb for determination\n",
      "qcd_loose_to_MVA_sfs = {\n",
      "    'mu': 0.114379084967,\n",
      "    'ele': 0.0728291316527,\n",
      "}\n",
      "fit_sfs = dict()\n",
      "\n",
      "fit_sfs['mu'] = [x[1] for x in fitpars_process['final_2j1t_mva']['mu']]\n",
      "fit_sfs['ele'] = [x[1] for x in fitpars_process['final_2j1t_mva']['ele']]\n"
     ],
     "language": "python",
     "metadata": {},
     "outputs": [],
     "prompt_number": 2
    },
    {
     "cell_type": "code",
     "collapsed": false,
     "input": [
      "sfs = dict()\n",
      "\n",
      "def scale_factors(channel, apply_MVA=True, mt_cut=False, cut=\"2j1t\"):\n",
      "    tchan = fit_sfs[channel][0]\n",
      "    top = fit_sfs[channel][1]\n",
      "    wzjets = fit_sfs[channel][2]\n",
      "    qcd = top\n",
      "    if apply_MVA:\n",
      "        qcd = qcd * qcd_loose_to_MVA_sfs[channel]\n",
      "    if mt_cut is False:\n",
      "        qcd = qcd * qcd_mt_fit_sfs[channel]\n",
      "    else:\n",
      "        qcd = qcd * load_qcd_sf(channel, mt_cut, cut)\n",
      "                             \n",
      "    ret = [\n",
      "        (['tchan'], tchan, -1),\n",
      "        (['TTJets', 'tWchan', 'schan'], top, -1),\n",
      "        (['qcd'], qcd, -1),\n",
      "        (['WJets', 'diboson', 'DYJets'], wzjets, -1)\n",
      "    ]\n",
      "    return ret\n",
      "scale_factors('mu', False, 0), scale_factors('ele', False, 0)"
     ],
     "language": "python",
     "metadata": {},
     "outputs": [
      {
       "metadata": {},
       "output_type": "pyout",
       "prompt_number": 3,
       "text": [
        "([(['tchan'], 0.97892, -1),\n",
        "  (['TTJets', 'tWchan', 'schan'], 0.779379, -1),\n",
        "  (['qcd'], 4.705686984081001, -1),\n",
        "  (['WJets', 'diboson', 'DYJets'], 2.01681, -1)],\n",
        " [(['tchan'], 0.848552, -1),\n",
        "  (['TTJets', 'tWchan', 'schan'], 0.795166, -1),\n",
        "  (['qcd'], 3.6099335699340003, -1),\n",
        "  (['WJets', 'diboson', 'DYJets'], 2.269027, -1)])"
       ]
      }
     ],
     "prompt_number": 3
    },
    {
     "cell_type": "code",
     "collapsed": false,
     "input": [
      "cutname = \"2j1t_mva_loose\"\n",
      "hists_dir = \"hists/Aug27\""
     ],
     "language": "python",
     "metadata": {},
     "outputs": [],
     "prompt_number": 4
    },
    {
     "cell_type": "heading",
     "level": 2,
     "metadata": {},
     "source": [
      "Plots"
     ]
    },
    {
     "cell_type": "code",
     "collapsed": false,
     "input": [
      "def pd(var, cut, channel, **kwargs):\n",
      "    channels_pretty = {\"mu\":\"Muon\", \"ele\":\"Electrons\"}\n",
      "    return PlotDef(\n",
      "        infile=hists_dir+\"/hists_merged__%s__%s_%s.root\" % (cut, var, channel),\n",
      "        lumi=lumis[\"343e0a9_Aug22\"][\"iso\"][channel],\n",
      "        var=var,\n",
      "        channel_pretty=channels_pretty[channel],\n",
      "        systematics='.*',\n",
      "        systematics_shapeonly=False,\n",
      "        lb_comments='',\n",
      "        save_name=\"out/plots/%s_%s_%s.pdf\" % (cut, var, channel),\n",
      "        process_scale_factor = scale_factors(channel),\n",
      "        **kwargs\n",
      "    )\n",
      "\n",
      "def save_and_show(c):\n",
      "    c.SaveAs(h.save_name)\n",
      "    r = ipy_show_canv(c)\n",
      "    c.Close() #Need to close to prevent ROOT crash\n",
      "    return r"
     ],
     "language": "python",
     "metadata": {},
     "outputs": [],
     "prompt_number": 5
    },
    {
     "cell_type": "code",
     "collapsed": false,
     "input": [
      "h = pd(\"abs_eta_lj\", cutname, \"mu\", rebin=1, legend_pos='top-left', log=False)\n",
      "c, hists = data_mc_plot(h)\n",
      "save_and_show(c)"
     ],
     "language": "python",
     "metadata": {},
     "outputs": []
    },
    {
     "cell_type": "code",
     "collapsed": false,
     "input": [
      "h = pd(\"abs_eta_lj\", cutname, \"ele\", rebin=2, legend_pos='top-left', log=False)\n",
      "c, hists = data_mc_plot(h)\n",
      "save_and_show(c)"
     ],
     "language": "python",
     "metadata": {},
     "outputs": []
    },
    {
     "cell_type": "code",
     "collapsed": false,
     "input": [
      "h = pd(\"top_mass_sr\", cutname, \"ele\", rebin=6, legend_pos='top-right')\n",
      "c, hists = data_mc_plot(h)\n",
      "save_and_show(c)"
     ],
     "language": "python",
     "metadata": {},
     "outputs": []
    },
    {
     "cell_type": "code",
     "collapsed": false,
     "input": [
      "h = pd(\"cos_theta\", cutname, \"mu\", rebin=4)\n",
      "c, hists = data_mc_plot(h)\n",
      "save_and_show(c)"
     ],
     "language": "python",
     "metadata": {},
     "outputs": [
      {
       "output_type": "stream",
       "stream": "stderr",
       "text": [
        "INFO:plots.syst_band] Considering systematics ['wjets_mg_flavour_flat_weight', 'qcd_iso', 'b_weight_nominal_l', 'muon_idweight', 'pu_weight', 'wjets_mg_flavour_shape_weight', 'lepton_weight_shape', 'tchan_scale', 'b_weight_nominal_bc', 'muon_isoweight', 'muon_triggerweight', 'res', 'mass', 'qcd_yield', 'en', 'unclustereden', 'top_pt', 'ttbar_scale']\n"
       ]
      },
      {
       "output_type": "stream",
       "stream": "stderr",
       "text": [
        "INFO:plots.syst_band] Systematic wjets_mg_flavour_flat_weight, 279.7132\n"
       ]
      },
      {
       "output_type": "stream",
       "stream": "stderr",
       "text": [
        "INFO:plots.syst_band] Systematic en, 105.3355\n"
       ]
      },
      {
       "output_type": "stream",
       "stream": "stderr",
       "text": [
        "INFO:plots.syst_band] Systematic tchan_scale, 81.5201\n"
       ]
      },
      {
       "output_type": "stream",
       "stream": "stderr",
       "text": [
        "INFO:plots.syst_band] Systematic res, 59.6574\n"
       ]
      },
      {
       "output_type": "stream",
       "stream": "stderr",
       "text": [
        "INFO:plots.syst_band] Systematic mass, 55.2055\n"
       ]
      },
      {
       "output_type": "stream",
       "stream": "stderr",
       "text": [
        "INFO:plots.syst_band] Systematic b_weight_nominal_bc, 45.2102\n"
       ]
      },
      {
       "output_type": "stream",
       "stream": "stderr",
       "text": [
        "INFO:plots.syst_band] Systematic lepton_weight_shape, 28.5200\n"
       ]
      },
      {
       "output_type": "stream",
       "stream": "stderr",
       "text": [
        "WARNING:ROOT.TROOT.Append] Replacing existing TH1: 0line (Potential memory leak).\n"
       ]
      },
      {
       "output_type": "stream",
       "stream": "stderr",
       "text": [
        "INFO:ROOT.TCanvas.Print] pdf file out/plots/2j1t_mva_loose_cos_theta_mu.pdf has been created\n"
       ]
      },
      {
       "output_type": "stream",
       "stream": "stderr",
       "text": [
        "INFO:ROOT.TCanvas.Print] png file temp.png has been created\n"
       ]
      },
      {
       "output_type": "stream",
       "stream": "stdout",
       "text": [
        "diboson 16.9325490398 114.0\n",
        "qcd 90.3459134102 305.0\n",
        "DYJets 71.690043658 13.0\n",
        "tchan 2321.29129219 25987.0\n",
        "WJets 1211.35937881 573.0\n",
        "schan 15.0285307765 75.0\n",
        "tWchan 28.9703349471 94.0\n",
        "TTJets 424.577098846 7798.0\n",
        "MC: 4180.20 Data: 4303.00\n"
       ]
      },
      {
       "metadata": {},
       "output_type": "pyout",
       "png": "[encoded data removed]",
       "prompt_number": 6,
       "text": [
        "<IPython.core.display.Image at 0x10aa87dd0>"
       ]
      }
     ],
     "prompt_number": 6
    },
    {
     "cell_type": "code",
     "collapsed": false,
     "input": [
      "h = pd(\"cos_theta\", cutname, \"ele\", rebin=4)\n",
      "c, hists = data_mc_plot(h)\n",
      "save_and_show(c)"
     ],
     "language": "python",
     "metadata": {},
     "outputs": [
      {
       "output_type": "stream",
       "stream": "stderr",
       "text": [
        "INFO:plots.syst_band] Considering systematics ['wjets_mg_flavour_flat_weight', 'qcd_iso', 'b_weight_nominal_l', 'pu_weight', 'wjets_mg_flavour_shape_weight', 'electron_triggerweight', 'electron_idweight', 'tchan_scale', 'b_weight_nominal_bc', 'ttbar_scale', 'en', 'lepton_weight_shape', 'mass', 'qcd_yield', 'top_pt', 'unclustereden', 'res']\n"
       ]
      },
      {
       "output_type": "stream",
       "stream": "stderr",
       "text": [
        "INFO:plots.syst_band] Systematic wjets_mg_flavour_flat_weight, 132.6527\n"
       ]
      },
      {
       "output_type": "stream",
       "stream": "stderr",
       "text": [
        "INFO:plots.syst_band] Systematic en, 76.4211\n"
       ]
      },
      {
       "output_type": "stream",
       "stream": "stderr",
       "text": [
        "INFO:plots.syst_band] Systematic tchan_scale, 63.8370\n"
       ]
      },
      {
       "output_type": "stream",
       "stream": "stderr",
       "text": [
        "INFO:plots.syst_band] Systematic res, 47.3814\n"
       ]
      },
      {
       "output_type": "stream",
       "stream": "stderr",
       "text": [
        "INFO:plots.syst_band] Systematic unclustereden, 39.7585\n"
       ]
      },
      {
       "output_type": "stream",
       "stream": "stderr",
       "text": [
        "INFO:plots.syst_band] Systematic lepton_weight_shape, 37.7823\n"
       ]
      },
      {
       "output_type": "stream",
       "stream": "stderr",
       "text": [
        "INFO:plots.syst_band] Systematic mass, 31.1654\n"
       ]
      },
      {
       "output_type": "stream",
       "stream": "stderr",
       "text": [
        "WARNING:ROOT.TROOT.Append] Replacing existing TH1: 0line (Potential memory leak).\n"
       ]
      },
      {
       "output_type": "stream",
       "stream": "stderr",
       "text": [
        "INFO:ROOT.TCanvas.Print] pdf file out/plots/2j1t_mva_loose_cos_theta_ele.pdf has been created\n"
       ]
      },
      {
       "output_type": "stream",
       "stream": "stderr",
       "text": [
        "INFO:ROOT.TCanvas.Print] png file temp.png has been created\n"
       ]
      },
      {
       "output_type": "stream",
       "stream": "stdout",
       "text": [
        "diboson 11.0235390067 82.0\n",
        "qcd 83.5439002514 381.0\n",
        "DYJets 66.3001020756 9.0\n",
        "tchan 993.883146286 13592.0\n",
        "WJets 541.818684578 262.0\n",
        "schan 5.97981097549 32.0\n",
        "tWchan 22.310242027 71.0\n",
        "TTJets 249.705107212 4913.0\n",
        "MC: 1974.56 Data: 1986.00\n"
       ]
      },
      {
       "metadata": {},
       "output_type": "pyout",
       "png": "[encoded data removed]",
       "prompt_number": 7,
       "text": [
        "<IPython.core.display.Image at 0x10aa87f90>"
       ]
      }
     ],
     "prompt_number": 7
    },
    {
     "cell_type": "code",
     "collapsed": false,
     "input": [
      "h = pd(\"mtw_50_150\", cutname, \"mu\", rebin=3, legend_pos='top-right')\n",
      "c, hists = data_mc_plot(h)\n",
      "save_and_show(c)"
     ],
     "language": "python",
     "metadata": {},
     "outputs": []
    },
    {
     "cell_type": "code",
     "collapsed": false,
     "input": [
      "h = pd(\"mtw_50_150\", cutname, \"ele\", rebin=3, legend_pos='top-right')\n",
      "c, hists = data_mc_plot(h)\n",
      "save_and_show(c)"
     ],
     "language": "python",
     "metadata": {},
     "outputs": []
    },
    {
     "cell_type": "code",
     "collapsed": false,
     "input": [
      "h = pd(\"bdt_discr\", \"2j1t_baseline\", \"mu\", rebin=3, legend_pos='top-right', log=True, max_bin_mult_log=1000)\n",
      "h.process_scale_factor = scale_factors('mu', False)\n",
      "#h.systematics_shapeonly = False\n",
      "c, hists = data_mc_plot(h)\n",
      "save_and_show(c)"
     ],
     "language": "python",
     "metadata": {},
     "outputs": []
    },
    {
     "cell_type": "code",
     "collapsed": false,
     "input": [
      "h = pd(\"bdt_discr\", \"2j1t_baseline\", \"ele\", rebin=3, legend_pos='top-right', log=True, max_bin_mult_log=1000)\n",
      "h.process_scale_factor = scale_factors('ele', False)\n",
      "#h.systematics_shapeonly = False\n",
      "c, hists = data_mc_plot(h)\n",
      "save_and_show(c)"
     ],
     "language": "python",
     "metadata": {},
     "outputs": []
    },
    {
     "cell_type": "code",
     "collapsed": false,
     "input": [
      "h = pd(\"mtw\", \"2j1t_baseline_nomet\", \"mu\", rebin=1, legend_pos='top-right', log=False)\n",
      "h.process_scale_factor = scale_factors('mu', False, 0)\n",
      "h.systematics_shapeonly = True\n",
      "c, hists = data_mc_plot(h)\n",
      "save_and_show(c)"
     ],
     "language": "python",
     "metadata": {},
     "outputs": []
    },
    {
     "cell_type": "code",
     "collapsed": false,
     "input": [
      "h = pd(\"mtw\", \"2j1t_baseline_nomet\", \"ele\", rebin=1, legend_pos='top-right', log=True)\n",
      "h.process_scale_factor = scale_factors('ele', False, 0)\n",
      "h.systematics_shapeonly = True\n",
      "c, hists = data_mc_plot(h)\n",
      "save_and_show(c)"
     ],
     "language": "python",
     "metadata": {},
     "outputs": []
    },
    {
     "cell_type": "code",
     "collapsed": false,
     "input": [
      "h = pd(\"bdt_discr\", \"3j1t_baseline\", \"ele\", rebin=3, legend_pos='top-right', log=True)\n",
      "h.process_scale_factor = scale_factors(\"ele\", False, 50, \"3j1t\")#scale_factors('ele', False, 0)\n",
      "h.systematics_shapeonly = True\n",
      "c, hists = data_mc_plot(h)\n",
      "save_and_show(c)"
     ],
     "language": "python",
     "metadata": {},
     "outputs": []
    },
    {
     "cell_type": "code",
     "collapsed": false,
     "input": [
      "h = pd(\"cos_theta\", \"3j2t_baseline\", \"mu\", rebin=1, legend_pos='top-right', log=False, min_bin=1)\n",
      "h.process_scale_factor = [\n",
      "]\n",
      "h.systematics_shapeonly = True\n",
      "c, hists = data_mc_plot(h)\n",
      "save_and_show(c)"
     ],
     "language": "python",
     "metadata": {},
     "outputs": [
      {
       "output_type": "stream",
       "stream": "stderr",
       "text": [
        "INFO:plots.syst_band] Considering systematics ['wjets_mg_flavour_flat_weight', 'qcd_iso', 'b_weight_nominal_l', 'muon_idweight', 'pu_weight', 'wjets_mg_flavour_shape_weight', 'lepton_weight_shape', 'tchan_scale', 'b_weight_nominal_bc', 'muon_isoweight', 'muon_triggerweight', 'mass', 'en', 'qcd_yield', 'top_pt', 'unclustereden', 'ttbar_scale', 'res']\n"
       ]
      },
      {
       "output_type": "stream",
       "stream": "stderr",
       "text": [
        "INFO:plots.syst_band] Systematic mass, 104.2709\n"
       ]
      },
      {
       "output_type": "stream",
       "stream": "stderr",
       "text": [
        "INFO:plots.syst_band] Systematic ttbar_scale, 99.8365\n"
       ]
      },
      {
       "output_type": "stream",
       "stream": "stderr",
       "text": [
        "INFO:plots.syst_band] Systematic tchan_scale, 40.7963\n"
       ]
      },
      {
       "output_type": "stream",
       "stream": "stderr",
       "text": [
        "INFO:plots.syst_band] Systematic res, 22.3046\n"
       ]
      },
      {
       "output_type": "stream",
       "stream": "stderr",
       "text": [
        "INFO:plots.syst_band] Systematic en, 20.5101\n"
       ]
      },
      {
       "output_type": "stream",
       "stream": "stderr",
       "text": [
        "INFO:plots.syst_band] Systematic unclustereden, 18.8353\n"
       ]
      },
      {
       "output_type": "stream",
       "stream": "stderr",
       "text": [
        "INFO:plots.syst_band] Systematic top_pt, 17.0000\n"
       ]
      },
      {
       "output_type": "stream",
       "stream": "stderr",
       "text": [
        "INFO:stack_plot] Maximal bin: 196.000\n"
       ]
      },
      {
       "output_type": "stream",
       "stream": "stderr",
       "text": [
        "INFO:stack_plot] Stack info: [('mc', 165.01885986328125), ('data', 196.0)]\n"
       ]
      },
      {
       "output_type": "stream",
       "stream": "stderr",
       "text": [
        "INFO:stack_plot] do_stack: True\n"
       ]
      },
      {
       "output_type": "stream",
       "stream": "stderr",
       "text": [
        "INFO:stack_plot] name: mc drawcmd: BAR HIST goff\n"
       ]
      },
      {
       "output_type": "stream",
       "stream": "stderr",
       "text": [
        "INFO:stack_plot] options: \n"
       ]
      },
      {
       "output_type": "stream",
       "stream": "stderr",
       "text": [
        "INFO:stack_plot] name: data drawcmd: E1 SAME\n"
       ]
      },
      {
       "output_type": "stream",
       "stream": "stderr",
       "text": [
        "INFO:stack_plot] options: \n"
       ]
      },
      {
       "output_type": "stream",
       "stream": "stderr",
       "text": [
        "WARNING:ROOT.TROOT.Append] Replacing existing TH1: 0line (Potential memory leak).\n"
       ]
      },
      {
       "output_type": "stream",
       "stream": "stderr",
       "text": [
        "INFO:ROOT.TCanvas.Print] pdf file out/plots/3j2t_baseline_cos_theta_mu.pdf has been created\n"
       ]
      },
      {
       "output_type": "stream",
       "stream": "stderr",
       "text": [
        "INFO:ROOT.TCanvas.Print] png file temp.png has been created\n"
       ]
      },
      {
       "output_type": "stream",
       "stream": "stdout",
       "text": [
        "diboson 12.7826176323 241.0\n",
        "qcd 194.0 194.0\n",
        "DYJets 22.6806054413 8.0\n",
        "tchan 496.77197516 6139.0\n",
        "WJets 219.590024531 425.0\n",
        "schan 36.535863535 161.0\n",
        "tWchan 99.3367505968 280.0\n",
        "TTJets 7639.00100994 115345.0\n",
        "MC: 8720.70 Data: 9151.00\n"
       ]
      },
      {
       "metadata": {},
       "output_type": "pyout",
       "png": "[encoded data removed]",
       "prompt_number": 21,
       "text": [
        "<IPython.core.display.Image at 0x10c24f050>"
       ]
      }
     ],
     "prompt_number": 21
    },
    {
     "cell_type": "code",
     "collapsed": false,
     "input": [
      "h = pd(\"cos_theta\", \"2j0t_baseline\", \"ele\", rebin=3, legend_pos='top-right', log=False, min_bin=1)\n",
      "h.process_scale_factor = [\n",
      "]\n",
      "h.\n",
      "h.systematics_shapeonly = True\n",
      "c, hists = data_mc_plot(h)\n",
      "save_and_show(c)"
     ],
     "language": "python",
     "metadata": {},
     "outputs": [
      {
       "output_type": "stream",
       "stream": "stderr",
       "text": [
        "INFO:plots.syst_band] Considering systematics ['wjets_mg_flavour_flat_weight', 'qcd_iso', 'b_weight_nominal_l', 'pu_weight', 'wjets_mg_flavour_shape_weight', 'electron_triggerweight', 'electron_idweight', 'tchan_scale', 'b_weight_nominal_bc', 'en', 'lepton_weight_shape', 'mass', 'qcd_yield', 'top_pt', 'unclustereden', 'ttbar_scale', 'res']\n"
       ]
      },
      {
       "output_type": "stream",
       "stream": "stderr",
       "text": [
        "INFO:plots.syst_band] Systematic wjets_mg_flavour_shape_weight, 4511.4841\n"
       ]
      },
      {
       "output_type": "stream",
       "stream": "stderr",
       "text": [
        "INFO:plots.syst_band] Systematic res, 709.8045\n"
       ]
      },
      {
       "output_type": "stream",
       "stream": "stderr",
       "text": [
        "INFO:plots.syst_band] Systematic en, 585.7606\n"
       ]
      },
      {
       "output_type": "stream",
       "stream": "stderr",
       "text": [
        "INFO:plots.syst_band] Systematic wjets_mg_flavour_flat_weight, 484.0991\n"
       ]
      },
      {
       "output_type": "stream",
       "stream": "stderr",
       "text": [
        "INFO:plots.syst_band] Systematic lepton_weight_shape, 397.4357\n"
       ]
      },
      {
       "output_type": "stream",
       "stream": "stderr",
       "text": [
        "INFO:plots.syst_band] Systematic unclustereden, 394.1696\n"
       ]
      },
      {
       "output_type": "stream",
       "stream": "stderr",
       "text": [
        "INFO:plots.syst_band] Systematic mass, 246.8208\n"
       ]
      },
      {
       "output_type": "stream",
       "stream": "stderr",
       "text": [
        "WARNING:ROOT.TROOT.Append] Replacing existing TH1: 0line (Potential memory leak).\n"
       ]
      },
      {
       "output_type": "stream",
       "stream": "stderr",
       "text": [
        "INFO:ROOT.TCanvas.Print] pdf file out/plots/2j0t_baseline_cos_theta_ele.pdf has been created\n"
       ]
      },
      {
       "output_type": "stream",
       "stream": "stderr",
       "text": [
        "INFO:ROOT.TCanvas.Print] png file temp.png has been created\n"
       ]
      },
      {
       "output_type": "stream",
       "stream": "stdout",
       "text": [
        "diboson 7105.03504181 80079.0\n",
        "qcd 5543.0 5543.0\n",
        "DYJets 14889.8963013 4929.0\n",
        "tchan 7290.36764526 71457.0\n",
        "WJets 489749.757812 447056.0\n",
        "schan 316.441029549 1074.0\n",
        "tWchan 2273.19789505 5162.0\n",
        "TTJets 31165.1988525 396448.0\n",
        "MC: 558332.89 Data: 550163.00\n"
       ]
      },
      {
       "metadata": {},
       "output_type": "pyout",
       "png": "[encoded data removed]",
       "prompt_number": 7,
       "text": [
        "<IPython.core.display.Image at 0x10aa6f290>"
       ]
      }
     ],
     "prompt_number": 7
    },
    {
     "cell_type": "code",
     "collapsed": false,
     "input": [
      "h = pd(\"abs_eta_lj\", \"2j1t_baseline\", \"ele\", rebin=3, legend_pos='top-right', log=True, min_bin=1)\n",
      "h.systematics_shapeonly = True\n",
      "c, hists = data_mc_plot(h)\n",
      "save_and_show(c)"
     ],
     "language": "python",
     "metadata": {},
     "outputs": []
    },
    {
     "cell_type": "code",
     "collapsed": false,
     "input": [
      "cutname"
     ],
     "language": "python",
     "metadata": {},
     "outputs": [
      {
       "metadata": {},
       "output_type": "pyout",
       "prompt_number": 8,
       "text": [
        "'2j1t_mva_loose'"
       ]
      }
     ],
     "prompt_number": 8
    },
    {
     "cell_type": "code",
     "collapsed": false,
     "input": [
      "!ls hists/Aug27/hists_merged__2j1t_c"
     ],
     "language": "python",
     "metadata": {},
     "outputs": []
    },
    {
     "cell_type": "code",
     "collapsed": false,
     "input": [
      "from plots.common.hist_plots import logger as l\n",
      "import logging\n",
      "l.setLevel(logging.DEBUG)\n",
      "h = pd(\"cos_theta\", \"2j1t_cutbased_final\", \"ele\", rebin=4)\n",
      "c, hists = data_mc_plot(h)\n",
      "save_and_show(c)"
     ],
     "language": "python",
     "metadata": {},
     "outputs": [
      {
       "output_type": "stream",
       "stream": "stderr",
       "text": [
        "INFO:rootpy.logger] | No default log handler configured. See `logging` module |\n"
       ]
      },
      {
       "output_type": "stream",
       "stream": "stderr",
       "text": [
        "INFO:rootpy.logger] \\    To suppress: 'rootpy.log.basic_config_colorized()'   /\n"
       ]
      },
      {
       "output_type": "stream",
       "stream": "stderr",
       "text": [
        "INFO:plots.syst_band] Considering systematics ['wjets_mg_flavour_flat_weight', 'qcd_iso', 'b_weight_nominal_l', 'pu_weight', 'wjets_mg_flavour_shape_weight', 'electron_triggerweight', 'electron_idweight', 'tchan_scale', 'b_weight_nominal_bc', 'ttbar_scale', 'en', 'lepton_weight_shape', 'mass', 'qcd_yield', 'top_pt', 'unclustereden', 'res']\n"
       ]
      },
      {
       "output_type": "stream",
       "stream": "stderr",
       "text": [
        "INFO:plots.syst_band] Systematic wjets_mg_flavour_flat_weight, 145.9463\n"
       ]
      },
      {
       "output_type": "stream",
       "stream": "stderr",
       "text": [
        "INFO:plots.syst_band] Systematic en, 72.2637\n"
       ]
      },
      {
       "output_type": "stream",
       "stream": "stderr",
       "text": [
        "INFO:plots.syst_band] Systematic tchan_scale, 71.2979\n"
       ]
      },
      {
       "output_type": "stream",
       "stream": "stderr",
       "text": [
        "INFO:plots.syst_band] Systematic unclustereden, 45.8565\n"
       ]
      },
      {
       "output_type": "stream",
       "stream": "stderr",
       "text": [
        "INFO:plots.syst_band] Systematic res, 44.1506\n"
       ]
      },
      {
       "output_type": "stream",
       "stream": "stderr",
       "text": [
        "INFO:plots.syst_band] Systematic lepton_weight_shape, 39.6178\n"
       ]
      },
      {
       "output_type": "stream",
       "stream": "stderr",
       "text": [
        "INFO:plots.syst_band] Systematic mass, 36.6271\n"
       ]
      },
      {
       "output_type": "stream",
       "stream": "stderr",
       "text": [
        "INFO:hist_plots] Drawing systematic histograms\n"
       ]
      },
      {
       "output_type": "stream",
       "stream": "stdout",
       "text": [
        "> /Users/joosep/Documents/stpol/plots/common/hist_plots.py(229)plot_data_mc_ratio()\n",
        "-> hr.Draw(\"same hist\")\n"
       ]
      },
      {
       "name": "stdout",
       "output_type": "stream",
       "stream": "stdout",
       "text": [
        "(Pdb) h\n"
       ]
      },
      {
       "output_type": "stream",
       "stream": "stdout",
       "text": [
        "\n",
        "Documented commands (type help <topic>):\n",
        "========================================\n",
        "EOF    bt         cont      enable  jump  pp       run      unt   \n",
        "a      c          continue  exit    l     q        s        until \n",
        "alias  cl         d         h       list  quit     step     up    \n",
        "args   clear      debug     help    n     r        tbreak   w     \n",
        "b      commands   disable   ignore  next  restart  u        whatis\n",
        "break  condition  down      j       p     return   unalias  where \n",
        "\n",
        "Miscellaneous help topics:\n",
        "==========================\n",
        "exec  pdb\n",
        "\n",
        "Undocumented commands:\n",
        "======================\n",
        "retval  rv\n",
        "\n"
       ]
      },
      {
       "name": "stdout",
       "output_type": "stream",
       "stream": "stdout",
       "text": [
        "(Pdb) asd=h\n"
       ]
      },
      {
       "name": "stdout",
       "output_type": "stream",
       "stream": "stdout",
       "text": [
        "(Pdb) asd\n"
       ]
      },
      {
       "output_type": "stream",
       "stream": "stdout",
       "text": [
        "Hist('ae190a1e3e67402abb03391b224a2db5')\n"
       ]
      },
      {
       "name": "stdout",
       "output_type": "stream",
       "stream": "stdout",
       "text": [
        "(Pdb) asd.GetBinContent(4)\n"
       ]
      },
      {
       "output_type": "stream",
       "stream": "stdout",
       "text": [
        "60.780452728271484\n"
       ]
      },
      {
       "name": "stdout",
       "output_type": "stream",
       "stream": "stdout",
       "text": [
        "(Pdb) c\n"
       ]
      },
      {
       "output_type": "stream",
       "stream": "stderr",
       "text": [
        "DEBUG:hist_plots] systematic ratio = [-0.3979310393333435, -0.46388429403305054, -0.5006495118141174, -0.5464144945144653, -0.12417994439601898, -0.30021682381629944, -0.32600337266921997, -0.32724422216415405, -0.31909510493278503, -0.0065003205090761185, -0.24768269062042236, -0.2829131484031677, -0.16194620728492737, -0.19353371858596802, -0.6035512089729309]\n"
       ]
      },
      {
       "output_type": "stream",
       "stream": "stdout",
       "text": [
        "> /Users/joosep/Documents/stpol/plots/common/hist_plots.py(227)plot_data_mc_ratio()\n",
        "-> import pdb; pdb.set_trace()\n"
       ]
      },
      {
       "name": "stdout",
       "output_type": "stream",
       "stream": "stdout",
       "text": [
        "(Pdb) asd=h\n"
       ]
      },
      {
       "name": "stdout",
       "output_type": "stream",
       "stream": "stdout",
       "text": [
        "(Pdb) asd.GetBinContent(4)\n"
       ]
      },
      {
       "output_type": "stream",
       "stream": "stdout",
       "text": [
        "111.07781982421875\n"
       ]
      },
      {
       "name": "stdout",
       "output_type": "stream",
       "stream": "stdout",
       "text": [
        "(Pdb) syst_ratio_hists\n"
       ]
      },
      {
       "output_type": "stream",
       "stream": "stdout",
       "text": [
        "[Hist('63cf931bcb744d61a36fa86d7ef6a11e')]\n"
       ]
      },
      {
       "name": "stdout",
       "output_type": "stream",
       "stream": "stdout",
       "text": [
        "(Pdb) s\n"
       ]
      },
      {
       "output_type": "stream",
       "stream": "stdout",
       "text": [
        "> /Users/joosep/Documents/stpol/plots/common/hist_plots.py(229)plot_data_mc_ratio()\n",
        "-> hr.Draw(\"same hist\")\n"
       ]
      },
      {
       "name": "stdout",
       "output_type": "stream",
       "stream": "stdout",
       "text": [
        "(Pdb) s\n"
       ]
      },
      {
       "output_type": "stream",
       "stream": "stdout",
       "text": [
        "--Call--\n",
        "> /Users/joosep/anaconda/lib/python2.7/site-packages/rootpy-dev-py2.7.egg/rootpy/plotting/core.py(482)Draw()\n",
        "-> def Draw(self, *args, **kwargs):\n"
       ]
      },
      {
       "name": "stdout",
       "output_type": "stream",
       "stream": "stdout",
       "text": [
        "(Pdb) n\n"
       ]
      },
      {
       "output_type": "stream",
       "stream": "stdout",
       "text": [
        "> /Users/joosep/anaconda/lib/python2.7/site-packages/rootpy-dev-py2.7.egg/rootpy/plotting/core.py(498)Draw()\n",
        "-> if kwargs:\n"
       ]
      },
      {
       "name": "stdout",
       "output_type": "stream",
       "stream": "stdout",
       "text": [
        "(Pdb) n\n"
       ]
      },
      {
       "output_type": "stream",
       "stream": "stdout",
       "text": [
        "> /Users/joosep/anaconda/lib/python2.7/site-packages/rootpy-dev-py2.7.egg/rootpy/plotting/core.py(501)Draw()\n",
        "-> pad = ROOT.gPad.func()\n"
       ]
      },
      {
       "name": "stdout",
       "output_type": "stream",
       "stream": "stdout",
       "text": [
        "(Pdb) n\n"
       ]
      },
      {
       "output_type": "stream",
       "stream": "stdout",
       "text": [
        "> /Users/joosep/anaconda/lib/python2.7/site-packages/rootpy-dev-py2.7.egg/rootpy/plotting/core.py(502)Draw()\n",
        "-> own_pad = False\n"
       ]
      },
      {
       "name": "stdout",
       "output_type": "stream",
       "stream": "stdout",
       "text": [
        "(Pdb) u\n"
       ]
      },
      {
       "output_type": "stream",
       "stream": "stdout",
       "text": [
        "> /Users/joosep/Documents/stpol/plots/common/hist_plots.py(229)plot_data_mc_ratio()\n",
        "-> hr.Draw(\"same hist\")\n"
       ]
      },
      {
       "name": "stdout",
       "output_type": "stream",
       "stream": "stdout",
       "text": [
        "(Pdb) n\n"
       ]
      },
      {
       "output_type": "stream",
       "stream": "stdout",
       "text": [
        "> /Users/joosep/Documents/stpol/plots/common/hist_plots.py(230)plot_data_mc_ratio()\n",
        "-> logger.debug(\"systematic ratio = %s\" % str(list(hr.y())))\n"
       ]
      },
      {
       "name": "stdout",
       "output_type": "stream",
       "stream": "stdout",
       "text": [
        "(Pdb) n\n"
       ]
      },
      {
       "output_type": "stream",
       "stream": "stderr",
       "text": [
        "DEBUG:hist_plots] systematic ratio = [0.02396189421415329, 0.13864101469516754, 0.17844636738300323, -0.17106103897094727, 0.7441994547843933, 0.3965350091457367, 0.009731387719511986, 0.1901797354221344, 0.03898721933364868, 0.7378613352775574, 0.32791346311569214, 0.11709298193454742, 0.4071720242500305, 0.729843020439148, 0.2626493573188782]\n"
       ]
      },
      {
       "output_type": "stream",
       "stream": "stdout",
       "text": [
        "> /Users/joosep/Documents/stpol/plots/common/hist_plots.py(231)plot_data_mc_ratio()\n",
        "-> syst_ratio_hists.append(hr)\n"
       ]
      },
      {
       "name": "stdout",
       "output_type": "stream",
       "stream": "stdout",
       "text": [
        "(Pdb) n\n"
       ]
      },
      {
       "output_type": "stream",
       "stream": "stdout",
       "text": [
        "> /Users/joosep/Documents/stpol/plots/common/hist_plots.py(223)plot_data_mc_ratio()\n",
        "-> for h in list(syst_hists):\n"
       ]
      },
      {
       "name": "stdout",
       "output_type": "stream",
       "stream": "stdout",
       "text": [
        "(Pdb) n\n"
       ]
      },
      {
       "output_type": "stream",
       "stream": "stdout",
       "text": [
        "> /Users/joosep/Documents/stpol/plots/common/hist_plots.py(233)plot_data_mc_ratio()\n",
        "-> canv.syst_ratio_hists = syst_ratio_hists\n"
       ]
      },
      {
       "name": "stdout",
       "output_type": "stream",
       "stream": "stdout",
       "text": [
        "(Pdb) syst_ratio_hists\n"
       ]
      },
      {
       "output_type": "stream",
       "stream": "stdout",
       "text": [
        "[Hist('63cf931bcb744d61a36fa86d7ef6a11e'), Hist('dc20255c6ce24c0981a6488748967482')]\n"
       ]
      },
      {
       "name": "stdout",
       "output_type": "stream",
       "stream": "stdout",
       "text": [
        "(Pdb) syst_ratio_hists[0].GetBinContent(4)\n"
       ]
      },
      {
       "output_type": "stream",
       "stream": "stdout",
       "text": [
        "-0.5464144945144653\n"
       ]
      },
      {
       "name": "stdout",
       "output_type": "stream",
       "stream": "stdout",
       "text": [
        "(Pdb) syst_ratio_hists[1].GetBinContent(4)\n"
       ]
      },
      {
       "output_type": "stream",
       "stream": "stdout",
       "text": [
        "-0.17106103897094727\n"
       ]
      },
      {
       "name": "stdout",
       "output_type": "stream",
       "stream": "stdout",
       "text": [
        "(Pdb) hdata\n"
       ]
      },
      {
       "output_type": "stream",
       "stream": "stdout",
       "text": [
        "*** NameError: name 'hdata' is not defined\n"
       ]
      },
      {
       "name": "stdout",
       "output_type": "stream",
       "stream": "stdout",
       "text": [
        "(Pdb) hdata_orig\n"
       ]
      },
      {
       "output_type": "stream",
       "stream": "stdout",
       "text": [
        "Hist('3c125ab13e584687bbbca20fa2c9d72c')\n"
       ]
      },
      {
       "name": "stdout",
       "output_type": "stream",
       "stream": "stdout",
       "text": [
        "(Pdb) hdata_orig.GetBinContent(4)\n"
       ]
      },
      {
       "output_type": "stream",
       "stream": "stdout",
       "text": [
        "134.0\n"
       ]
      },
      {
       "name": "stdout",
       "output_type": "stream",
       "stream": "stdout",
       "text": [
        "(Pdb) hmc.GetBinContent(4)\n"
       ]
      },
      {
       "output_type": "stream",
       "stream": "stdout",
       "text": [
        "*** NameError: name 'hmc' is not defined\n"
       ]
      },
      {
       "name": "stdout",
       "output_type": "stream",
       "stream": "stdout",
       "text": [
        "(Pdb) syst_hists\n"
       ]
      },
      {
       "output_type": "stream",
       "stream": "stdout",
       "text": [
        "(Hist('ae190a1e3e67402abb03391b224a2db5'), Hist('eb0d09c7ee764569870f1d81328c362f'))\n"
       ]
      },
      {
       "name": "stdout",
       "output_type": "stream",
       "stream": "stdout",
       "text": [
        "(Pdb) syst_hists[0].GetBinContent(4)\n"
       ]
      },
      {
       "output_type": "stream",
       "stream": "stdout",
       "text": [
        "60.780452728271484\n"
       ]
      },
      {
       "name": "stdout",
       "output_type": "stream",
       "stream": "stdout",
       "text": [
        "(Pdb) (syst_hists[0].GetBinContent(4) - hdata_orig.GetBinContent(4))/hdata_orig.GetBinContent(4)\n"
       ]
      },
      {
       "output_type": "stream",
       "stream": "stdout",
       "text": [
        "-0.546414531878571\n"
       ]
      },
      {
       "name": "stdout",
       "output_type": "stream",
       "stream": "stdout",
       "text": [
        "(Pdb) (syst_hists[1].GetBinContent(4) - hdata_orig.GetBinContent(4))/hdata_orig.GetBinContent(4)\n"
       ]
      },
      {
       "output_type": "stream",
       "stream": "stdout",
       "text": [
        "-0.17106104608791978\n"
       ]
      },
      {
       "name": "stdout",
       "output_type": "stream",
       "stream": "stdout",
       "text": [
        "(Pdb) hdata_orig.GetBinContent(4)\n"
       ]
      },
      {
       "output_type": "stream",
       "stream": "stdout",
       "text": [
        "134.0\n"
       ]
      }
     ],
     "prompt_number": "*"
    },
    {
     "cell_type": "code",
     "collapsed": false,
     "input": [
      "(90-130)/130"
     ],
     "language": "python",
     "metadata": {},
     "outputs": [],
     "prompt_number": "*"
    },
    {
     "cell_type": "code",
     "collapsed": false,
     "input": [],
     "language": "python",
     "metadata": {},
     "outputs": []
    }
   ],
   "metadata": {}
  }
 ]
}