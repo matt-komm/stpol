{
 "metadata": {
  "name": ""
 },
 "nbformat": 3,
 "nbformat_minor": 0,
 "worksheets": [
  {
   "cells": [
    {
     "cell_type": "code",
     "collapsed": false,
     "input": [
      "import os\n",
      "import numpy as np\n",
      "import ROOT\n",
      "\n",
      "path = \"/home/joosep/singletop/stpol/Aug22_tagged/\"\n",
      "sizes = []\n",
      "nevents = []\n",
      "for root, dirs, items in os.walk(path):\n",
      "    for it in items:\n",
      "        p = os.path.join(root, it)\n",
      "        si = os.path.getsize(p)/1024/1024\n",
      "        fi =ROOT.TFile(p)\n",
      "        if fi:\n",
      "            n = fi.Get(\"trees/Events\").GetEntries()\n",
      "            fi.Close()\n",
      "        else:\n",
      "            n = 0\n",
      "        nevents.append(n)\n",
      "        sizes.append(si)\n",
      "print np.mean(sizes), np.std(sizes), np.max(sizes), np.min(sizes)"
     ],
     "language": "python",
     "metadata": {},
     "outputs": [
      {
       "output_type": "stream",
       "stream": "stdout",
       "text": [
        "12.7813238771 64.5656019578 1062 0\n"
       ]
      }
     ],
     "prompt_number": 1
    },
    {
     "cell_type": "code",
     "collapsed": false,
     "input": [
      "from plots.common.mpl_tdrstyle import plt\n",
      "from plots.common.mpl_hists import hist_err\n",
      "%matplotlib inline"
     ],
     "language": "python",
     "metadata": {},
     "outputs": [],
     "prompt_number": 2
    },
    {
     "cell_type": "code",
     "collapsed": false,
     "input": [
      "fig = plt.figure()\n",
      "ax = plt.axes()\n",
      "#ax.semilogy()\n",
      "ax.hist(sizes, bins=20, histtype='step', color='red', log=True)"
     ],
     "language": "python",
     "metadata": {},
     "outputs": [
      {
       "metadata": {},
       "output_type": "pyout",
       "prompt_number": 3,
       "text": [
        "(array([813,   2,  15,   6,   6,   0,   0,   0,   0,   0,   1,   0,   1,\n",
        "         0,   0,   0,   1,   0,   0,   1]),\n",
        " array([    0. ,    53.1,   106.2,   159.3,   212.4,   265.5,   318.6,\n",
        "         371.7,   424.8,   477.9,   531. ,   584.1,   637.2,   690.3,\n",
        "         743.4,   796.5,   849.6,   902.7,   955.8,  1008.9,  1062. ]),\n",
        " <a list of 1 Patch objects>)"
       ]
      },
      {
       "metadata": {},
       "output_type": "display_data",
       "png": "[encoded data removed]",
       "text": [
        "<matplotlib.figure.Figure at 0x5132dd0>"
       ]
      }
     ],
     "prompt_number": 3
    },
    {
     "cell_type": "code",
     "collapsed": false,
     "input": [
      "fig = plt.figure()\n",
      "ax = plt.axes()\n",
      "ax.hist(nevents, bins=20, histtype='step', log=True)"
     ],
     "language": "python",
     "metadata": {},
     "outputs": [
      {
       "metadata": {},
       "output_type": "pyout",
       "prompt_number": 4,
       "text": [
        "(array([751,  32,  35,   0,   0,   0,   0,   0,   0,   0,   7,   0,   7,\n",
        "         0,   0,   0,   5,   2,   0,   7]),\n",
        " array([       0. ,    58818.3,   117636.6,   176454.9,   235273.2,\n",
        "         294091.5,   352909.8,   411728.1,   470546.4,   529364.7,\n",
        "         588183. ,   647001.3,   705819.6,   764637.9,   823456.2,\n",
        "         882274.5,   941092.8,   999911.1,  1058729.4,  1117547.7,\n",
        "        1176366. ]),\n",
        " <a list of 1 Patch objects>)"
       ]
      }
     ],
     "prompt_number": "*"
    },
    {
     "cell_type": "code",
     "collapsed": false,
     "input": [
      "fig = plt.figure()\n",
      "ax = plt.axes()\n",
      "hi = ax.hist2d(sizes, nevents, bins=10,\n",
      "    norm = matplotlib.colors.LogNorm(), \n",
      "    cmap = matplotlib.cm.rainbow               \n",
      ")"
     ],
     "language": "python",
     "metadata": {},
     "outputs": [
      {
       "metadata": {},
       "output_type": "display_data",
       "png": "[encoded data removed]",
       "text": [
        "<matplotlib.figure.Figure at 0x482b5d0>"
       ]
      }
     ],
     "prompt_number": 57
    },
    {
     "cell_type": "code",
     "collapsed": false,
     "input": [
      "sum(nevents)/1000/1000"
     ],
     "language": "python",
     "metadata": {},
     "outputs": [
      {
       "metadata": {},
       "output_type": "pyout",
       "prompt_number": 53,
       "text": [
        "489"
       ]
      }
     ],
     "prompt_number": 53
    },
    {
     "cell_type": "code",
     "collapsed": false,
     "input": [
      "plt.LogN"
     ],
     "language": "python",
     "metadata": {},
     "outputs": []
    }
   ],
   "metadata": {}
  }
 ]
}