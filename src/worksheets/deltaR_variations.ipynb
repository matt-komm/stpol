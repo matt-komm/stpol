{
 "metadata": {
  "name": ""
 },
 "nbformat": 3,
 "nbformat_minor": 0,
 "worksheets": [
  {
   "cells": [
    {
     "cell_type": "code",
     "collapsed": false,
     "input": [
      "from plots.load_histos2 import load_file\n",
      "from plots.common.mpl_hists import draw_hists\n",
      "from plots.common.odict import OrderedDict\n",
      "%matplotlib inline"
     ],
     "language": "python",
     "metadata": {},
     "outputs": []
    },
    {
     "cell_type": "code",
     "collapsed": false,
     "input": [
      "pat = \"hdfs/local/stpol/step3/Aug4_0eb863_full_with_Jul29_MVA/mu/data/antiiso/Jul15/SingleMu1.root/channel/mu/mu__antiiso_nominal_dR_(.*)/jet/2j/tag/0t/met/met__mtw_nominal/signalenr/mva/mva__mu__loose.*/weight__unweighted/top_mass_sr$\"\n",
      "rets = []\n",
      "rets = load_file([\"out.root\"],\n",
      "    {\n",
      "     \"p1\": pat\n",
      "    }\n",
      ")"
     ],
     "language": "python",
     "metadata": {},
     "outputs": []
    },
    {
     "cell_type": "code",
     "collapsed": false,
     "input": [
      "hists = rets[\"p1\"][pat]\n",
      "hd = OrderedDict()\n",
      "for (d,), h in hists:\n",
      "    h = h.Clone()\n",
      "    h.Rebin(5)\n",
      "    h.Scale(1.0/h.Integral())\n",
      "    hd[d] = h"
     ],
     "language": "python",
     "metadata": {},
     "outputs": []
    },
    {
     "cell_type": "code",
     "collapsed": false,
     "input": [
      "ax = draw_hists(hd)"
     ],
     "language": "python",
     "metadata": {},
     "outputs": []
    },
    {
     "cell_type": "code",
     "collapsed": false,
     "input": [
      "hi = hd[\"nominal\"]-hd[\"up\"]"
     ],
     "language": "python",
     "metadata": {},
     "outputs": []
    },
    {
     "cell_type": "code",
     "collapsed": false,
     "input": [
      "list(hi.y())"
     ],
     "language": "python",
     "metadata": {},
     "outputs": []
    },
    {
     "cell_type": "code",
     "collapsed": false,
     "input": [
      "rets[\"p1\"].keys()"
     ],
     "language": "python",
     "metadata": {},
     "outputs": []
    },
    {
     "cell_type": "code",
     "collapsed": false,
     "input": [],
     "language": "python",
     "metadata": {},
     "outputs": []
    }
   ],
   "metadata": {}
  }
 ]
}