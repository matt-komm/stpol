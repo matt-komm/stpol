{
 "metadata": {
  "name": ""
 },
 "nbformat": 3,
 "nbformat_minor": 0,
 "worksheets": [
  {
   "cells": [
    {
     "cell_type": "markdown",
     "metadata": {},
     "source": [
      "Determines the scale factor between the QCD yield with and without the MVA cut"
     ]
    },
    {
     "cell_type": "code",
     "collapsed": false,
     "input": [
      "import glob\n",
      "from plots.common.mpl_tdrstyle import plt\n",
      "from plots.common.mpl_hists import draw_hists, hist_err\n",
      "%matplotlib inline\n",
      "from plots.common.sample import Sample\n",
      "from plots.common.cuts import Cuts\n",
      "\n",
      "\n",
      "basepath = \"/hdfs/local/stpol/step3/37acf5_343e0a9_Aug22/\"\n",
      "\n",
      "def project(channel):\n",
      "    data_antiiso = \"%s/data/antiiso/*/*.root\" % channel\n",
      "    fnames = glob.glob(basepath + data_antiiso)\n",
      "    print fnames\n",
      "    samples = map(Sample.fromFile, fnames)\n",
      "    \n",
      "    cuts = dict()\n",
      "    cuts[\"loose\"] = (Cuts.lepton(channel) * Cuts.hlt(channel) *\n",
      "        Cuts.rms_lj * Cuts.n_jets(2) * Cuts.metmt(channel) *\n",
      "        Cuts.n_tags(1) * Cuts.deltaR_QCD() * Cuts.antiiso(channel)\n",
      "    )\n",
      "    cuts[\"mva\"] = cuts[\"loose\"] * Cuts.mva_wp(channel)\n",
      "    cuts[\"cutbased\"] = cuts[\"loose\"] * Cuts.final(2,1, channel)\n",
      "    \n",
      "    hists = dict()\n",
      "    for cn, c in cuts.items():\n",
      "        hists[cn] = []\n",
      "        for samp in samples:\n",
      "            hi = samp.drawHistogram(\"cos_theta\", str(c), binning=[10, -1, 1])\n",
      "            hists[cn].append(hi)\n",
      "    hloose = reduce(lambda x,y: x+y, hists['loose'])\n",
      "    hmva = reduce(lambda x,y: x+y, hists['mva'])\n",
      "    hcutbased = reduce(lambda x,y: x+y, hists['cutbased'])\n",
      "    return hloose, hmva, hcutbased"
     ],
     "language": "python",
     "metadata": {},
     "outputs": [],
     "prompt_number": 10
    },
    {
     "cell_type": "code",
     "collapsed": false,
     "input": [
      "def draw(hloose, hmva):\n",
      "    for h in [hloose, hmva]:\n",
      "        h.Scale(1.0 / h.Integral())\n",
      "    \n",
      "    hi = {\"loose\":hloose, \"mva\":hmva}\n",
      "    fig = plt.figure(figsize=(10,10))\n",
      "    ax = plt.axes()\n",
      "    hist_err(ax, hloose, linewidth=2, label='QCD loose template')\n",
      "    hist_err(ax, hmva, linewidth=2, label='mva loose WP')\n",
      "    ax.legend(fontsize=16, loc=2)"
     ],
     "language": "python",
     "metadata": {},
     "outputs": [],
     "prompt_number": 51
    },
    {
     "cell_type": "code",
     "collapsed": false,
     "input": [
      "hloose, hmva, hcutbased = project(\"mu\")\n",
      "print \"Scale factor QCD mva / loose =\", hmva.Integral() / hloose.Integral()\n",
      "print \"Scale factor QCD cutbased / loose =\", hcutbased.Integral() / hloose.Integral()\n",
      "\n",
      "#draw(hloose, hmva)"
     ],
     "language": "python",
     "metadata": {},
     "outputs": [
      {
       "output_type": "stream",
       "stream": "stdout",
       "text": [
        "Scale factor QCD mva / loose = 0.114754098361\n",
        "Scale factor QCD cutbased / loose = 0.0983606557377\n"
       ]
      }
     ],
     "prompt_number": 11
    },
    {
     "cell_type": "code",
     "collapsed": false,
     "input": [
      "hloose, hmva, hcutbased = project(\"ele\")\n",
      "print \"Scale factor QCD mva / loose =\", hmva.Integral() / hloose.Integral()\n",
      "print \"Scale factor QCD cutbased / loose =\", hcutbased.Integral() / hloose.Integral()\n",
      "\n",
      "#draw(hloose, hmva)"
     ],
     "language": "python",
     "metadata": {},
     "outputs": [
      {
       "output_type": "stream",
       "stream": "stdout",
       "text": [
        "Scale factor QCD mva / loose = 0.0734908136483\n",
        "Scale factor QCD cutbased / loose = 0.0629921259843\n"
       ]
      }
     ],
     "prompt_number": 12
    },
    {
     "cell_type": "code",
     "collapsed": false,
     "input": [
      "Cuts.final(2,1, \"ele\")"
     ],
     "language": "python",
     "metadata": {},
     "outputs": [
      {
       "metadata": {},
       "output_type": "pyout",
       "prompt_number": 9,
       "text": [
        "<Cut((((((((n_muons==0 && n_eles==1) && (n_veto_mu==0 && n_veto_ele==0)) && (rms_lj < 0.025)) && (met>45)) && (n_jets == 2)) && (abs(eta_lj) > 2.5)) && (top_mass > 130 && top_mass < 220)) && (n_tags == 1))>"
       ]
      }
     ],
     "prompt_number": 9
    },
    {
     "cell_type": "code",
     "collapsed": false,
     "input": [],
     "language": "python",
     "metadata": {},
     "outputs": []
    }
   ],
   "metadata": {}
  }
 ]
}