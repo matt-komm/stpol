{
 "metadata": {
  "name": ""
 },
 "nbformat": 3,
 "nbformat_minor": 0,
 "worksheets": [
  {
   "cells": [
    {
     "cell_type": "code",
     "collapsed": false,
     "input": [
      "from plots.histogramming.flat import analysis_tree\n",
      "from plots.histogramming.tree import HistNode\n",
      "HistNode.logger.setLevel(\"WARNING\")\n",
      "from plots.common.cuts import Cuts, Weight, Weights\n",
      "from plots.common.sample import Sample"
     ],
     "language": "python",
     "metadata": {},
     "outputs": [],
     "prompt_number": 30
    },
    {
     "cell_type": "code",
     "collapsed": false,
     "input": [
      "Cuts.mva_vars"
     ],
     "language": "python",
     "metadata": {},
     "outputs": [
      {
       "metadata": {},
       "output_type": "pyout",
       "prompt_number": 31,
       "text": [
        "{'ele': 'mva_BDT_with_top_mass_C_eta_lj_el_pt_mt_el_pt_bj_mass_bj_met_mass_lj',\n",
        " 'mu': 'mva_BDT_with_top_mass_eta_lj_C_mu_pt_mt_mu_met_mass_bj_pt_bj_mass_lj'}"
       ]
      }
     ],
     "prompt_number": 31
    },
    {
     "cell_type": "code",
     "collapsed": false,
     "input": [
      "channel = \"mu\"\n",
      "baseline =  Cuts.metmt(channel)*Cuts.lepton(channel)*Cuts.hlt(channel)\n",
      "cuts = [\n",
      "    #(\"2j0t\", baseline*Cuts.n_jets(2)*Cuts.n_tags(0)),\n",
      "    #(\"2j1t\", baseline*Cuts.n_jets(2)*Cuts.n_tags(1)),\n",
      "    (\"2j1t_mva\", baseline*Cuts.n_jets(2)*Cuts.n_tags(1)*Cuts.mva_wp(channel)),\n",
      "    #(\"3j1t\", baseline*Cuts.n_jets(3)*Cuts.n_tags(1)),\n",
      "    #(\"3j2t\", baseline*Cuts.n_jets(3)*Cuts.n_tags(2)),\n",
      "]\n",
      "\n",
      "topw = Weight(\"ttbar_weight\")\n",
      "weights = [\n",
      " (w.name, w) for w in list(Weights.top_pt)\n",
      "]\n",
      "weights.append((\"unweighted\", Weights.no_weight))\n",
      "\n",
      "variables = [\n",
      "    (\"top_mass\", \"top_mass\", [60, 100, 300]),\n",
      "    (\"top_pt\", \"top_pt\", [60, 0, 300]),\n",
      "    (\"cos_theta\", \"cos_theta\", [60, -1, 1]),\n",
      "    (\"C\", \"C\", [60, 0, 1]),\n",
      "    (\"mva\", str(Cuts.mva_vars[\"mu\"]), [60, 0, 1])\n",
      "]"
     ],
     "language": "python",
     "metadata": {},
     "outputs": [],
     "prompt_number": 49
    },
    {
     "cell_type": "code",
     "collapsed": false,
     "input": [
      "bn = \"/hdfs/local/stpol/step3/37acf5_343e0a9_Aug22/\" + channel\n",
      "inf = [\n",
      "    bn + \"/mc/iso/nominal/Jul15/TTJets_FullLept.root\",\n",
      "    bn + \"/mc/iso/nominal/Jul15/TTJets_SemiLept.root\",\n",
      "    bn + \"/data/iso/Jul15/SingleMu1.root\",\n",
      "    bn + \"/data/iso/Jul15/SingleMu2.root\",\n",
      "    bn + \"/data/iso/Jul15/SingleMu3.root\",\n",
      "    bn + \"/data/iso/Jul15/SingleMu_miss.root\",\n",
      "]"
     ],
     "language": "python",
     "metadata": {},
     "outputs": [],
     "prompt_number": 50
    },
    {
     "cell_type": "code",
     "collapsed": false,
     "input": [
      "t, out = analysis_tree(cuts, weights, variables, inf)\n",
      "for it in t:\n",
      "    it.recurseDown()\n",
      "out.close()"
     ],
     "language": "python",
     "metadata": {},
     "outputs": [
      {
       "output_type": "stream",
       "stream": "stderr",
       "text": [
        "INFO:plots.histogramming.flat:Done constructing sample nodes: 6\n"
       ]
      },
      {
       "output_type": "stream",
       "stream": "stderr",
       "text": [
        "INFO:tree:Processing sample <Sample(TTJets_FullLept, /hdfs/local/stpol/step3/37acf5_343e0a9_Aug22/mu/mc/iso/nominal/Jul15/TTJets_FullLept.root)>\n"
       ]
      },
      {
       "output_type": "stream",
       "stream": "stderr",
       "text": [
        "INFO:tree:Processed cut .2j1t_mva => -1 -> 4537\n"
       ]
      },
      {
       "output_type": "stream",
       "stream": "stderr",
       "text": [
        "INFO:tree:Processing sample <Sample(TTJets_SemiLept, /hdfs/local/stpol/step3/37acf5_343e0a9_Aug22/mu/mc/iso/nominal/Jul15/TTJets_SemiLept.root)>\n"
       ]
      },
      {
       "output_type": "stream",
       "stream": "stderr",
       "text": [
        "INFO:tree:Processed cut .2j1t_mva => -1 -> 4468\n"
       ]
      },
      {
       "output_type": "stream",
       "stream": "stderr",
       "text": [
        "INFO:tree:Processing sample <Sample(SingleMu1, /hdfs/local/stpol/step3/37acf5_343e0a9_Aug22/mu/data/iso/Jul15/SingleMu1.root)>\n"
       ]
      },
      {
       "output_type": "stream",
       "stream": "stderr",
       "text": [
        "INFO:tree:Processed cut .2j1t_mva => -1 -> 1739\n"
       ]
      },
      {
       "output_type": "stream",
       "stream": "stderr",
       "text": [
        "INFO:tree:Processing sample <Sample(SingleMu2, /hdfs/local/stpol/step3/37acf5_343e0a9_Aug22/mu/data/iso/Jul15/SingleMu2.root)>\n"
       ]
      },
      {
       "output_type": "stream",
       "stream": "stderr",
       "text": [
        "INFO:tree:Processed cut .2j1t_mva => -1 -> 1583\n"
       ]
      },
      {
       "output_type": "stream",
       "stream": "stderr",
       "text": [
        "INFO:tree:Processing sample <Sample(SingleMu3, /hdfs/local/stpol/step3/37acf5_343e0a9_Aug22/mu/data/iso/Jul15/SingleMu3.root)>\n"
       ]
      },
      {
       "output_type": "stream",
       "stream": "stderr",
       "text": [
        "INFO:tree:Processed cut .2j1t_mva => -1 -> 1332\n"
       ]
      },
      {
       "output_type": "stream",
       "stream": "stderr",
       "text": [
        "INFO:tree:Processing sample <Sample(SingleMu_miss, /hdfs/local/stpol/step3/37acf5_343e0a9_Aug22/mu/data/iso/Jul15/SingleMu_miss.root)>\n"
       ]
      },
      {
       "output_type": "stream",
       "stream": "stderr",
       "text": [
        "INFO:tree:Processed cut .2j1t_mva => -1 -> 249\n"
       ]
      }
     ],
     "prompt_number": 51
    },
    {
     "cell_type": "code",
     "collapsed": false,
     "input": [
      "print len(out)"
     ],
     "language": "python",
     "metadata": {},
     "outputs": [
      {
       "output_type": "stream",
       "stream": "stdout",
       "text": [
        "120\n"
       ]
      }
     ],
     "prompt_number": 52
    },
    {
     "cell_type": "code",
     "collapsed": false,
     "input": [
      "def get_hists(samp, cut, var):\n",
      "    hists = out[\".*/(%s.*)\\.root/%s/(.*)/%s$\" % (samp, cut, var)]\n",
      "    hd = dict()\n",
      "    for (sn, weight), h in hists:\n",
      "        h.SetTitle(weight.replace(\"_\", \" \"))\n",
      "        #h.Scale(1.0/h.Integral())\n",
      "        if not weight in hd.keys():\n",
      "            hd[weight] = h.Clone()\n",
      "        else:\n",
      "            hd[weight] += h\n",
      "    return hd"
     ],
     "language": "python",
     "metadata": {},
     "outputs": [],
     "prompt_number": 53
    },
    {
     "cell_type": "code",
     "collapsed": false,
     "input": [
      "%matplotlib inline\n",
      "%pylab inline\n",
      "from plots.common.mpl_hists import ratio_subplots, axes_style, hist_err, draw_hists"
     ],
     "language": "python",
     "metadata": {},
     "outputs": [
      {
       "output_type": "stream",
       "stream": "stdout",
       "text": [
        "Populating the interactive namespace from numpy and matplotlib\n"
       ]
      },
      {
       "output_type": "stream",
       "stream": "stderr",
       "text": [
        "WARNING: pylab import has clobbered these variables: ['draw', 'var', 'inf']\n",
        "`%pylab --no-import-all` prevents importing * from pylab and numpy\n"
       ]
      }
     ],
     "prompt_number": 54
    },
    {
     "cell_type": "code",
     "collapsed": false,
     "input": [
      "import numpy as np\n",
      "\n",
      "def err(*args):\n",
      "    return np.sqrt(reduce(lambda x,y: np.power(x,2) + np.power(y, 2),\n",
      "        [np.array(list(x)) for x in args]\n",
      "    ))\n",
      "\n",
      "cut = \"3j2t\"\n",
      "var = \"top_pt\"\n",
      "\n",
      "def draw(cut, var, rebin=5):\n",
      "    import plots\n",
      "    from plots.vars import varnames_mpl as varnames\n",
      "    varname = varnames.get(var, var)\n",
      "    \n",
      "    \n",
      "    hmc = get_hists(\"TTJets.*\", cut, var)\n",
      "    hdata = get_hists(\"SingleMu.*\", cut, var)\n",
      "    for k, v in hmc.items() + hdata.items():\n",
      "        v.Scale(1.0/v.Integral())\n",
      "        v.Rebin(rebin)\n",
      "        \n",
      "    fig = plt.figure(\n",
      "        figsize=(10,10)\n",
      "    )\n",
      "    ax1, ax2 = ratio_subplots()\n",
      "    cut = cut.replace(\"_\", \" \")\n",
      "    ax1.set_title(r\"Effect of top $p_T$ reweighting in %s, data vs. $t\\bar{t}$\" % cut, fontsize=16)\n",
      "    ax1.set_ylabel(\"normalized \\# of events\", fontsize=16)\n",
      "    map(axes_style, [ax1, ax2])\n",
      "    \n",
      "    err_up = hmc[\"top_pt_nominal\"] - hmc[\"top_pt_up\"]\n",
      "    err_down = hmc[\"top_pt_nominal\"] - hmc[\"top_pt_down\"]\n",
      "    \n",
      "    hist_err(ax1, hdata[\"unweighted\"], fmt='o', color='black', label='data')\n",
      "    hist_err(ax1, hmc[\"top_pt_nominal\"], yerr=(np.abs(err_down), np.abs(err_up)), label=r'%s reweighted' % varname, linewidth=2)\n",
      "    hist_err(ax1, hmc[\"unweighted\"], label='unweighted', linewidth=2)\n",
      "    \n",
      "    leg = ax1.legend(fontsize=16)\n",
      "    \n",
      "    hr1 = hmc[\"top_pt_nominal\"] / hdata[\"unweighted\"]\n",
      "    ratio_err_up = err_up / hdata[\"unweighted\"]\n",
      "    ratio_err_down = err_down / hdata[\"unweighted\"]\n",
      "    err_down = err(ratio_err_down, hr1.errors())\n",
      "    err_up = err(ratio_err_up, hr1.errors())\n",
      "    hist_err(ax2, hr1, yerr=(err_down, err_up), color='blue', linewidth=2)\n",
      "    \n",
      "    hr2 = hmc[\"unweighted\"] / hdata[\"unweighted\"]\n",
      "    hist_err(ax2, hr2, color='green', linewidth=2)\n",
      "    ax2.axhline(1, color='black')\n",
      "    ax2.set_ylim(0.5, 1.5)\n",
      "    ax2.set_xlabel(varname, fontsize=16)\n",
      "    ax2.set_ylabel(\"exp./meas.\", fontsize=16)\n",
      "    plt.tight_layout()\n"
     ],
     "language": "python",
     "metadata": {},
     "outputs": [],
     "prompt_number": 62
    },
    {
     "cell_type": "code",
     "collapsed": false,
     "input": [
      "draw(\"2j1t_mva\", \"cos_theta\")"
     ],
     "language": "python",
     "metadata": {},
     "outputs": [
      {
       "metadata": {},
       "output_type": "display_data",
       "png": "[encoded data removed]",
       "text": [
        "<matplotlib.figure.Figure at 0x7309f90>"
       ]
      }
     ],
     "prompt_number": 63
    },
    {
     "cell_type": "code",
     "collapsed": false,
     "input": [],
     "language": "python",
     "metadata": {},
     "outputs": []
    }
   ],
   "metadata": {}
  }
 ]
}