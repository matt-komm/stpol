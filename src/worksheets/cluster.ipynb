{
 "metadata": {
  "name": ""
 },
 "nbformat": 3,
 "nbformat_minor": 0,
 "worksheets": [
  {
   "cells": [
    {
     "cell_type": "code",
     "collapsed": false,
     "input": [
      "from IPython.parallel import Client\n",
      "import glob\n",
      "rc = Client(profile='nbserver')\n",
      "dview = rc[:]\n",
      "print len(dview)"
     ],
     "language": "python",
     "metadata": {},
     "outputs": [
      {
       "output_type": "stream",
       "stream": "stdout",
       "text": [
        "32\n"
       ]
      }
     ],
     "prompt_number": 2
    },
    {
     "cell_type": "code",
     "collapsed": false,
     "input": [
      "def setup_node(n):\n",
      "    import os, socket\n",
      "    import ROOT\n",
      "    \n",
      "    global state\n",
      "    state = dict()\n",
      "    return n, socket.gethostname(), os.getpid()\n",
      "\n",
      "def load_sample(kwargs):\n",
      "    global state\n",
      "    state = dict()\n",
      "    from plots.common.sample import Sample\n",
      "    from plots.histogramming import tree\n",
      "    import networkx as nx\n",
      "    \n",
      "    fname = kwargs.get(\"fname\")\n",
      "    \n",
      "    out = tree.DictSaver()\n",
      "    graph = nx.DiGraph()\n",
      "    \n",
      "    snode = tree.SampleNode(out, graph, fname, [], [])\n",
      "    state[\"snode\"] = snode\n",
      "    state[\"outdict\"] = out\n",
      "    state[\"graph\"] = graph\n",
      "    \n",
      "    print state\n",
      "\n",
      "def get_column(kwargs):\n",
      "    global state\n",
      "    from plots.histogramming.histo import analysis_tree_all_reweighed\n",
      "\n",
      "    cuts = kwargs.get(\"cuts\")\n",
      "    analysis_tree_all_reweighed(\n",
      "       state[\"graph\"], cuts, [state[\"snode\"]],\n",
      "    )\n",
      "    state[\"snode\"].recurseDown()\n",
      "    kwargs[\"out\"] = state[\"outdict\"]\n",
      "    return kwargs"
     ],
     "language": "python",
     "metadata": {},
     "outputs": [],
     "prompt_number": 3
    },
    {
     "cell_type": "code",
     "collapsed": false,
     "input": [
      "dview.map_sync(setup_node, range(len(dview)))"
     ],
     "language": "python",
     "metadata": {},
     "outputs": [
      {
       "metadata": {},
       "output_type": "pyout",
       "prompt_number": 4,
       "text": [
        "[(0, 'ied.hep.kbfi.ee', 18599),\n",
        " (1, 'ied.hep.kbfi.ee', 18595),\n",
        " (2, 'ied.hep.kbfi.ee', 18591),\n",
        " (3, 'ied.hep.kbfi.ee', 18594),\n",
        " (4, 'ied.hep.kbfi.ee', 18593),\n",
        " (5, 'ied.hep.kbfi.ee', 18601),\n",
        " (6, 'ied.hep.kbfi.ee', 18592),\n",
        " (7, 'ied.hep.kbfi.ee', 18598),\n",
        " (8, 'ied.hep.kbfi.ee', 18597),\n",
        " (9, 'ied.hep.kbfi.ee', 18590),\n",
        " (10, 'ied.hep.kbfi.ee', 18596),\n",
        " (11, 'ied.hep.kbfi.ee', 18589),\n",
        " (12, 'ied.hep.kbfi.ee', 18602),\n",
        " (13, 'ied.hep.kbfi.ee', 18600),\n",
        " (14, 'ied.hep.kbfi.ee', 18608),\n",
        " (15, 'ied.hep.kbfi.ee', 18604),\n",
        " (16, 'ied.hep.kbfi.ee', 18605),\n",
        " (17, 'ied.hep.kbfi.ee', 18603),\n",
        " (18, 'ied.hep.kbfi.ee', 18606),\n",
        " (19, 'ied.hep.kbfi.ee', 18607),\n",
        " (20, 'ied.hep.kbfi.ee', 18611),\n",
        " (21, 'ied.hep.kbfi.ee', 18613),\n",
        " (22, 'ied.hep.kbfi.ee', 18609),\n",
        " (23, 'ied.hep.kbfi.ee', 18610),\n",
        " (24, 'ied.hep.kbfi.ee', 18612),\n",
        " (25, 'ied.hep.kbfi.ee', 18618),\n",
        " (26, 'ied.hep.kbfi.ee', 18615),\n",
        " (27, 'ied.hep.kbfi.ee', 18616),\n",
        " (28, 'ied.hep.kbfi.ee', 18614),\n",
        " (29, 'ied.hep.kbfi.ee', 18617),\n",
        " (30, 'ied.hep.kbfi.ee', 18619),\n",
        " (31, 'ied.hep.kbfi.ee', 18620)]"
       ]
      }
     ],
     "prompt_number": 4
    },
    {
     "cell_type": "code",
     "collapsed": false,
     "input": [
      "from plots.common.cuts import Cuts\n",
      "fnames = []\n",
      "for line in open(\"/home/joosep/singletop/stpol/files\"):\n",
      "    fnames.append(line.strip())\n",
      "args = [{\"fname\": fn, \"cuts\":[(\"mu_2j1t\", Cuts.hlt(\"mu\")*Cuts.lepton(\"mu\")*Cuts.n_jets(2)*Cuts.n_tags(1))]} for fn in fnames]"
     ],
     "language": "python",
     "metadata": {},
     "outputs": [],
     "prompt_number": 6
    },
    {
     "cell_type": "code",
     "collapsed": false,
     "input": [
      "%time ret=dview.map_async(load_sample, args)"
     ],
     "language": "python",
     "metadata": {},
     "outputs": [
      {
       "output_type": "stream",
       "stream": "stdout",
       "text": [
        "CPU times: user 45 ms, sys: 3 ms, total: 48 ms\n",
        "Wall time: 44.2 ms\n"
       ]
      }
     ],
     "prompt_number": 7
    },
    {
     "cell_type": "code",
     "collapsed": false,
     "input": [
      "%time ret=dview.map_async(get_column, args)"
     ],
     "language": "python",
     "metadata": {},
     "outputs": [
      {
       "output_type": "stream",
       "stream": "stdout",
       "text": [
        "CPU times: user 66 ms, sys: 4 ms, total: 70 ms\n",
        "Wall time: 68.1 ms\n"
       ]
      }
     ],
     "prompt_number": "*"
    },
    {
     "cell_type": "code",
     "collapsed": false,
     "input": [
      "ret.wait_interactive()\n",
      "ret.display_outputs()"
     ],
     "language": "python",
     "metadata": {},
     "outputs": [
      {
       "output_type": "stream",
       "stream": "stdout",
       "text": [
        "  16/32 tasks finished after  127 s"
       ]
      }
     ],
     "prompt_number": "*"
    },
    {
     "cell_type": "code",
     "collapsed": false,
     "input": [
      "hi = reduce(lambda x,y: x+y, [r[\"hist\"] for r in ret])"
     ],
     "language": "python",
     "metadata": {},
     "outputs": []
    },
    {
     "cell_type": "code",
     "collapsed": false,
     "input": [
      "ret.get()"
     ],
     "language": "python",
     "metadata": {},
     "outputs": [],
     "prompt_number": "*"
    },
    {
     "cell_type": "code",
     "collapsed": false,
     "input": [],
     "language": "python",
     "metadata": {},
     "outputs": []
    }
   ],
   "metadata": {}
  }
 ]
}