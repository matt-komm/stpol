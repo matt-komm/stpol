{
 "metadata": {
  "name": ""
 },
 "nbformat": 3,
 "nbformat_minor": 0,
 "worksheets": [
  {
   "cells": [
    {
     "cell_type": "code",
     "collapsed": false,
     "input": [
      "%matplotlib inline\n",
      "%pylab inline"
     ],
     "language": "python",
     "metadata": {},
     "outputs": []
    },
    {
     "cell_type": "code",
     "collapsed": false,
     "input": [
      "def sumh(hists):\n",
      "    return reduce(lambda x,y: x+y, hists)\n",
      "from plots.common.utils import NestedDict"
     ],
     "language": "python",
     "metadata": {},
     "outputs": []
    },
    {
     "cell_type": "code",
     "collapsed": false,
     "input": [
      "%time %run plots/met_phi.py"
     ],
     "language": "python",
     "metadata": {},
     "outputs": []
    },
    {
     "cell_type": "code",
     "collapsed": false,
     "input": [
      "snodes"
     ],
     "language": "python",
     "metadata": {},
     "outputs": []
    },
    {
     "cell_type": "code",
     "collapsed": false,
     "input": [
      "datas = {\n",
      "    \"corr\": \"Aug4_0eb863_full/mu/\",\n",
      "    \"uncorr\": \"/hdfs/local/stpol/step3/Jul26_MVA_multivar_v1/mu/\"\n",
      "}\n",
      "lumi=19800\n",
      "\n",
      "hists = {}\n",
      "for v in [\n",
      "    \"2j0t/w_nominal/met_phi\", \"2j0t/w_nominal/cos_theta\", \"2j0t/w_nominal/bdt\",\n",
      "    \"2j1t/w_nominal/met_phi\", \"2j1t/w_nominal/cos_theta\", \"2j1t/w_nominal/bdt\",\n",
      "]:\n",
      "    for k, d in datas.items():\n",
      "        wjets = outd[d + \"mc/iso/nominal/Jul15/W.*Jets.*/\"+v]\n",
      "        ttjets = outd[d + \"mc/iso/nominal/Jul15/TTJets.*/\"+v]\n",
      "        tchan = outd[d + \"mc/iso/nominal/Jul15/T.*ToLeptons.*/\"+v]\n",
      "        data = outd[d + \"data/iso/.*/SingleMu.*/\"+v]\n",
      "        \n",
      "        wjets = sumh(wjets)\n",
      "        wjets.Scale(lumi)\n",
      "        \n",
      "        ttjets = sumh(ttjets)\n",
      "        ttjets.Scale(lumi)\n",
      "        \n",
      "        tchan = sumh(tchan)\n",
      "        tchan.Scale(lumi)\n",
      "        \n",
      "        data = sumh(data)\n",
      "        def form(x):\n",
      "            return \"{0}/{1}/{2}\".format(k, x, v)\n",
      "        hists[form(\"data\")] = data\n",
      "        hists[form(\"mc/wjets\")] = wjets\n",
      "        hists[form(\"mc/ttjets\")] = ttjets\n",
      "        hists[form(\"mc/tchan\")] = tchan"
     ],
     "language": "python",
     "metadata": {},
     "outputs": []
    },
    {
     "cell_type": "code",
     "collapsed": false,
     "input": [
      "n = hists[\"corr/data/2j0t/w_nominal/met_phi\"].Integral()\n",
      "for hn, h in hists.items():\n",
      "    #print hn, h.Integral(), h.GetEntries()\n",
      "    if hn.startswith(\"uncorr/data\"):\n",
      "        h.Scale(19.8/18.6)\n",
      "    h.Scale(n/h.Integral())\n",
      "    #print hn, h.Integral(), h.GetEntries()"
     ],
     "language": "python",
     "metadata": {},
     "outputs": []
    },
    {
     "cell_type": "code",
     "collapsed": false,
     "input": [
      "chi1 = hists[\"corr/data/2j0t/w_nominal/met_phi\"].Chi2Test(hists[\"corr/mc/wjets/2j0t/w_nominal/met_phi\"], \"WW CHI2/NDF\")\n",
      "chi2 = hists[\"uncorr/data/2j0t/w_nominal/met_phi\"].Chi2Test(hists[\"uncorr/mc/wjets/2j0t/w_nominal/met_phi\"], \"WW CHI2/NDF\")"
     ],
     "language": "python",
     "metadata": {},
     "outputs": []
    },
    {
     "cell_type": "code",
     "collapsed": false,
     "input": [
      "matplotlib.rc('font',\n",
      "    **{\n",
      "    'sans-serif': 'Arial',\n",
      "    'family': 'sans-serif'\n",
      "})\n",
      "\n",
      "cut = \"2j0t\"\n",
      "\n",
      "fig = plt.figure(figsize=(10, 10), dpi=500, facecolor='white')\n",
      "axes = plt.axes([0.15, 0.15, 0.8, 0.8])\n",
      "axes.set_xlabel(\"$\\mathbf{\\phi_{MET}}$\")\n",
      "axes.grid(True, which='both')\n",
      "axes.xaxis.set_label_coords(0.93, -0.025)\n",
      "axes.set_title(\"The effect of MET $\\phi$ corrections in %s\" % cut)\n",
      "\n",
      "hist_err(axes, hists[\"corr/data/%s/w_nominal/met_phi\" % cut], fmt='-', color='black')\n",
      "hist_err(axes, hists[\"uncorr/data/%s/w_nominal/met_phi\" % cut], fmt='--o', color='black')\n",
      "\n",
      "hist_err(axes, hists[\"corr/mc/wjets/%s/w_nominal/met_phi\" % cut], fmt='-', color='g')\n",
      "hist_err(axes, hists[\"uncorr/mc/wjets/%s/w_nominal/met_phi\" % cut], fmt='--o', color='g')\n",
      "\n",
      "# hist_err(axes, hists[\"corr/mc/ttjets/%s/w_nominal/met_phi\" % cut], fmt='-', color='y')\n",
      "# hist_err(axes, hists[\"uncorr/mc/ttjets/%s/w_nominal/met_phi\" % cut], fmt='--o', color='y')\n",
      "\n",
      "# hist_err(axes, hists[\"corr/mc/tchan/%s/w_nominal/met_phi\" % cut], fmt='-', color='r')\n",
      "# hist_err(axes, hists[\"uncorr/mc/tchan/%s/w_nominal/met_phi\" % cut], fmt='--o', color='r')\n",
      "\n",
      "legend([\n",
      "        \"data corr.\",\n",
      "        \"data uncorr.\",\n",
      "        \"W corr.\",\n",
      "        \"W uncorr.\",\n",
      "#         r\"$t\\bar{t}$ corr.\",\n",
      "#         r\"$t\\bar{t}$ uncorr.\",\n",
      "#         r\"signal (t-channel) corr.\",\n",
      "#         r\"signal (t-channel) uncorr.\",\n",
      "])\n",
      "#plt.gca().set_ylim(bottom=0)\n",
      "fig.show()"
     ],
     "language": "python",
     "metadata": {},
     "outputs": []
    },
    {
     "cell_type": "code",
     "collapsed": false,
     "input": [
      "vn = \"2j0t/w_nominal/cos_theta\"\n",
      "fig = plt.figure(figsize=(10, 10), dpi=500, facecolor='white')\n",
      "axes = plt.axes([0.15, 0.15, 0.8, 0.8])\n",
      "axes.set_xlabel(r\"$\\mathbf{\\cos{\\theta}}$\")\n",
      "axes.grid(True, which='both')\n",
      "axes.xaxis.set_label_coords(0.93, -0.025)\n",
      "axes.set_title(\n",
      "    r\"The effect of MET $\\phi$ corrections in %s on $\\cos \\theta$\" % vn.split(\"/\")[0]\n",
      ")\n",
      "\n",
      "hist_err(axes, hists[\"corr/data/\" + vn], fmt='-', color='black')\n",
      "hist_err(axes, hists[\"uncorr/data/\" + vn], fmt='--o', color='black')\n",
      "\n",
      "hist_err(axes, hists[\"corr/mc/wjets/\" + vn], fmt='-', color='g')\n",
      "hist_err(axes, hists[\"uncorr/mc/wjets/\" + vn], fmt='--o', color='g')\n",
      "\n",
      "# hist_err(axes, hists[\"corr/mc/ttjets/\" + vn], fmt='-', color='y')\n",
      "# hist_err(axes, hists[\"uncorr/mc/ttjets/\" + vn], fmt='--o', color='y')\n",
      "\n",
      "# hist_err(axes, hists[\"corr/mc/tchan/\" + vn], fmt='-', color='r')\n",
      "# hist_err(axes, hists[\"uncorr/mc/tchan/\" + vn], fmt='--o', color='r')\n",
      "\n",
      "legend([\n",
      "        \"data corr. $\\int L\\ dt = 19.8$/fb\",\n",
      "        \"data uncorr.$\\int L\\ dt = 18.6$/fb\",\n",
      "        \"W corr.\",\n",
      "        \"W uncorr.\",\n",
      "#         r\"$t\\bar{t}$ corr.\",\n",
      "#         r\"$t\\bar{t}$ uncorr.\",\n",
      "#         r\"signal (t-channel) corr.\",\n",
      "#         r\"signal (t-channel) uncorr.\",\n",
      "], loc=2)\n",
      "#axes.semilogy()\n",
      "#plt.gca().set_ylim(bottom=100)\n",
      "fig.show()"
     ],
     "language": "python",
     "metadata": {},
     "outputs": []
    },
    {
     "cell_type": "code",
     "collapsed": false,
     "input": [
      "fig = plt.figure(figsize=(10, 10), dpi=500, facecolor='white')\n",
      "axes = plt.axes([0.15, 0.15, 0.8, 0.8])\n",
      "axes.set_xlabel(r\"$\\mathbf{\\cos{\\theta}}$\")\n",
      "axes.grid(True, which='both')\n",
      "axes.xaxis.set_label_coords(0.93, -0.025)\n",
      "axes.set_title(r\"The effect of MET $\\phi$ corrections in 2J0T on $\\mathbf{\\cos{\\theta}}$\")\n",
      "\n",
      "samp = \"wjets\"\n",
      "hist_err(axes, hists[\"uncorr/mc/%s/%s\" % (samp, vn)], fmt='-')\n",
      "hist_err(axes, hists[\"corr/mc/%s/%s\" % (samp, vn)], fmt='-o')\n",
      "\n",
      "# legend([\n",
      "#     \"wjets unc\", \"wjets c\", \"ttjets unc\", \"ttjets c\"\n",
      "# ], loc=3)\n",
      "#plt.gca().set_ylim(bottom=0)\n",
      "fig.show()"
     ],
     "language": "python",
     "metadata": {},
     "outputs": []
    },
    {
     "cell_type": "code",
     "collapsed": false,
     "input": [],
     "language": "python",
     "metadata": {},
     "outputs": []
    }
   ],
   "metadata": {}
  }
 ]
}