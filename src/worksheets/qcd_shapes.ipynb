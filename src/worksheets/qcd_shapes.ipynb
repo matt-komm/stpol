{
 "metadata": {
  "name": ""
 },
 "nbformat": 3,
 "nbformat_minor": 0,
 "worksheets": [
  {
   "cells": [
    {
     "cell_type": "code",
     "collapsed": false,
     "input": [
      "from plots.load_histos2 import load_file"
     ],
     "language": "python",
     "metadata": {},
     "outputs": [],
     "prompt_number": 12
    },
    {
     "cell_type": "code",
     "collapsed": false,
     "input": [
      "pat = \".*/mu_2j1t_qcd_template/antiiso_(.*)/weight__unweighted/cos_theta$\"\n",
      "out = load_file([\"out.root\"], {\"p1\":pat})"
     ],
     "language": "python",
     "metadata": {},
     "outputs": [
      {
       "output_type": "stream",
       "stream": "stderr",
       "text": [
        "INFO:load_histos2] Matched [('p1', 3)] histograms\n"
       ]
      }
     ],
     "prompt_number": 30
    },
    {
     "cell_type": "code",
     "collapsed": false,
     "input": [
      "hi = out['p1'][pat]"
     ],
     "language": "python",
     "metadata": {},
     "outputs": [],
     "prompt_number": 31
    },
    {
     "cell_type": "code",
     "collapsed": false,
     "input": [
      "for k, v in hi:\n",
      "    print k, v.Integral()\n",
      "h0 = hi[0][1].Clone()\n",
      "h0.Rebin(6)\n"
     ],
     "language": "python",
     "metadata": {},
     "outputs": [
      {
       "output_type": "stream",
       "stream": "stdout",
       "text": [
        "('nominal',) 658.0\n",
        "('up',) 153.0\n",
        "('down',) 634.0\n"
       ]
      },
      {
       "metadata": {},
       "output_type": "pyout",
       "prompt_number": 39,
       "text": [
        "Hist('772955fbc7024a1e91cbcf24d612a7a0')"
       ]
      }
     ],
     "prompt_number": 39
    },
    {
     "cell_type": "code",
     "collapsed": false,
     "input": [
      "from plots.common.mpl_hists import draw_hists\n",
      "from plots.common.mpl_tdrstyle import plt"
     ],
     "language": "python",
     "metadata": {},
     "outputs": [],
     "prompt_number": 45
    },
    {
     "cell_type": "code",
     "collapsed": false,
     "input": [
      "%matplotlib inline\n",
      "%pylab inline\n",
      "ax = draw_hists([h0])\n",
      "ax.set_xlabel(r\"$\\cos \\theta$\", fontsize=16)"
     ],
     "language": "python",
     "metadata": {},
     "outputs": [
      {
       "output_type": "stream",
       "stream": "stdout",
       "text": [
        "Populating the interactive namespace from numpy and matplotlib\n"
       ]
      },
      {
       "metadata": {},
       "output_type": "pyout",
       "prompt_number": 46,
       "text": [
        "<matplotlib.text.Text at 0x10aed5690>"
       ]
      },
      {
       "metadata": {},
       "output_type": "display_data",
       "png": "[encoded data removed]",
       "text": [
        "<matplotlib.figure.Figure at 0x10ae71f90>"
       ]
      }
     ],
     "prompt_number": 46
    },
    {
     "cell_type": "code",
     "collapsed": false,
     "input": [
      "from plots.common.sample import Sample\n",
      "from plots.common.cuts import Cuts\n",
      "s = Sample.fromFile(\"SingleMu1.root\")\n",
      "cut =  Cuts.metmt(\"mu\") * Cuts.lepton(\"mu\") * Cuts.hlt(\"mu\") * Cuts.n_jets(2) * Cuts.n_tags(1) * Cuts.antiiso(\"mu\") * Cuts.deltaR_QCD() * Cuts.rms_lj\n",
      "hi1 = s.drawHistogram(\n",
      "    \"cos_theta\", str(\n",
      "        cut\n",
      "    ),\n",
      "    binning=[20, -1, 1]\n",
      ")\n",
      "hi1.Integral(), str(cut)"
     ],
     "language": "python",
     "metadata": {},
     "outputs": [
      {
       "metadata": {},
       "output_type": "pyout",
       "prompt_number": 62,
       "text": [
        "(94.0,\n",
        " '((((((((mt_mu > 50) && ((n_muons==1 && n_eles==0) && (n_veto_mu==0 && n_veto_ele==0))) && ((HLT_IsoMu24_eta2p1_v11 == 1 || HLT_IsoMu24_eta2p1_v12 == 1 || HLT_IsoMu24_eta2p1_v13 == 1 || HLT_IsoMu24_eta2p1_v14 == 1 || HLT_IsoMu24_eta2p1_v15 == 1 || HLT_IsoMu24_eta2p1_v16 == 1  || HLT_IsoMu24_eta2p1_v17 == 1))) && (n_jets == 2)) && (n_tags == 1)) && (mu_iso>0.2 && mu_iso<0.5)) && (deltaR_bj>0.3 && deltaR_lj>0.3)) && (rms_lj < 0.025))')"
       ]
      }
     ],
     "prompt_number": 62
    },
    {
     "cell_type": "markdown",
     "metadata": {},
     "source": [
      "3.279511 1003.530510 92.971691\n",
      "\n",
      "Cut string for QCD template (data): ((HLT_IsoMu24_eta2p1_v11 == 1 || HLT_IsoMu24_eta2p1_v12 == 1 || HLT_IsoMu24_eta2p1_v13 == 1 || HLT_IsoMu24_eta2p1_v14 == 1 || HLT_IsoMu24_eta2p1_v15 == 1 || HLT_IsoMu24_eta2p1_v16 == 1  || HLT_IsoMu24_eta2p1_v17 == 1))*(n_jets == 2 && n_tags == 1 && n_veto_ele==0 && n_veto_mu==0 && ((((pt_lj > 40) && (pt_bj > 40)) && ((abs(eta_lj) < 4.5) && (abs(eta_bj) < 4.5))) && (rms_lj < 0.025)) && 1 && (deltaR_bj>0.3 && deltaR_lj>0.3) && (mu_iso>0.2 && mu_iso<0.5))"
     ]
    }
   ],
   "metadata": {}
  }
 ]
}