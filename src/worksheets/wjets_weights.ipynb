{
 "metadata": {
  "name": ""
 },
 "nbformat": 3,
 "nbformat_minor": 0,
 "worksheets": [
  {
   "cells": [
    {
     "cell_type": "code",
     "collapsed": false,
     "input": [
      "import ROOT\n",
      "import root_numpy as rnp"
     ],
     "language": "python",
     "metadata": {},
     "outputs": [],
     "prompt_number": 3
    },
    {
     "cell_type": "code",
     "collapsed": false,
     "input": [
      "a = rnp.root2rec(\"Aug22_tagged/Aug4_0eb863_full/mu/mc/iso/nominal/Jul15/W3Jets_exclusive/out_step3_4018875.root\", \"trees/WJets_weights\")"
     ],
     "language": "python",
     "metadata": {},
     "outputs": [],
     "prompt_number": 6
    },
    {
     "cell_type": "code",
     "collapsed": false,
     "input": [
      "a[\"wjets_mg_flavour_flat_weight\"]"
     ],
     "language": "python",
     "metadata": {},
     "outputs": [
      {
       "metadata": {},
       "output_type": "pyout",
       "prompt_number": 8,
       "text": [
        "array([ 1.1058228,  1.       ,  1.       ,  1.       ,  1.       ,\n",
        "        1.       ,  1.       ,  1.       ,  1.       ,  1.       ,\n",
        "        1.1058228,  1.       ,  1.       ,  1.       ,  1.1058228,\n",
        "        1.       ,  1.       ,  1.       ,  1.       ,  1.1058228,\n",
        "        1.       ,  1.       ,  1.       ,  1.1058228,  1.       ,\n",
        "        1.1058228,  1.       ,  1.       ,  1.       ,  1.       ,\n",
        "        1.       ,  1.       ,  1.       ,  1.       ,  1.       ,\n",
        "        1.       ,  1.       ,  1.1058228,  1.       ,  1.       ,\n",
        "        1.1058228,  1.       ,  1.       ,  1.       ,  1.       ,\n",
        "        1.       ,  1.       ,  1.       ,  1.       ,  1.       ,\n",
        "        1.       ,  1.       ,  1.       ,  1.1058228,  1.       ,\n",
        "        1.       ,  1.       ,  1.       ,  1.       ,  1.       ,\n",
        "        1.       ,  1.       ,  1.       ,  1.       ,  1.       ,\n",
        "        1.       ,  1.1058228,  1.       ,  1.       ,  1.       ,\n",
        "        1.       ,  1.       ,  1.       ,  1.       ,  1.1058228,\n",
        "        1.       ,  1.       ,  1.       ,  1.       ,  1.       ,\n",
        "        1.       ,  1.       ,  1.       ,  1.       ,  1.       ,\n",
        "        1.       ,  1.       ,  1.1058228,  1.       ,  1.       ,\n",
        "        1.       ,  1.       ,  1.       ], dtype=float32)"
       ]
      }
     ],
     "prompt_number": 8
    },
    {
     "cell_type": "code",
     "collapsed": false,
     "input": [],
     "language": "python",
     "metadata": {},
     "outputs": []
    }
   ],
   "metadata": {}
  }
 ]
}