{
 "metadata": {
  "name": ""
 },
 "nbformat": 3,
 "nbformat_minor": 0,
 "worksheets": [
  {
   "cells": [
    {
     "cell_type": "code",
     "collapsed": false,
     "input": [
      "from plots.common.sample import Sample\n",
      "from plots.common.cuts import Cuts, Cut\n",
      "from plots.common.mpl_hists import ipy_show_canv\n",
      "from plots.common.tdrstyle import tdrstyle\n",
      "import ROOT\n",
      "import glob\n",
      "import math\n",
      "import numpy as np\n",
      "ROOT.gROOT.SetBatch(True)"
     ],
     "language": "python",
     "metadata": {},
     "outputs": [],
     "prompt_number": 3
    },
    {
     "cell_type": "code",
     "collapsed": false,
     "input": [
      "def find_samples(path, fnrule):\n",
      "    import os, fnmatch\n",
      "    out = []\n",
      "    for root, dirs, items in os.walk(path):\n",
      "        for it in items:\n",
      "            p = os.path.join(root, it)\n",
      "            if fnmatch.fnmatch(p, fnrule):\n",
      "                out.append(p)\n",
      "    return out"
     ],
     "language": "python",
     "metadata": {},
     "outputs": [],
     "prompt_number": 4
    },
    {
     "cell_type": "code",
     "collapsed": false,
     "input": [
      "samples = dict()\n",
      "samps = [\"TTJets_FullLept\", \"TTJets_SemiLept\", \"T_t_ToLeptons\", \"Tbar_t_ToLeptons\"]\n",
      "basepath = \"/hdfs/local/stpol/step3/37acf5_343e0a9_Aug22/mu/\"\n",
      "for s in samps:\n",
      "    samples[s] = Sample.fromFile(basepath + \"/mc/iso/nominal/Jul15/%s.root\" % s)\n",
      "for s in glob.glob(basepath + \"/data/iso/*/*.root\"):\n",
      "    samp = Sample.fromFile(s)\n",
      "    samples[samp.name] = samp\n",
      "print \"Loaded %d samples\" % len(samples)\n",
      "\n",
      "samples"
     ],
     "language": "python",
     "metadata": {},
     "outputs": [
      {
       "output_type": "stream",
       "stream": "stdout",
       "text": [
        "Loaded 8 samples\n"
       ]
      },
      {
       "metadata": {},
       "output_type": "pyout",
       "prompt_number": 13,
       "text": [
        "{'SingleMu1': <Sample(SingleMu1, /hdfs/local/stpol/step3/37acf5_343e0a9_Aug22/mu//data/iso/Jul15/SingleMu1.root)>,\n",
        " 'SingleMu2': <Sample(SingleMu2, /hdfs/local/stpol/step3/37acf5_343e0a9_Aug22/mu//data/iso/Jul15/SingleMu2.root)>,\n",
        " 'SingleMu3': <Sample(SingleMu3, /hdfs/local/stpol/step3/37acf5_343e0a9_Aug22/mu//data/iso/Jul15/SingleMu3.root)>,\n",
        " 'SingleMu_miss': <Sample(SingleMu_miss, /hdfs/local/stpol/step3/37acf5_343e0a9_Aug22/mu//data/iso/Jul15/SingleMu_miss.root)>,\n",
        " 'TTJets_FullLept': <Sample(TTJets_FullLept, /hdfs/local/stpol/step3/37acf5_343e0a9_Aug22/mu//mc/iso/nominal/Jul15/TTJets_FullLept.root)>,\n",
        " 'TTJets_SemiLept': <Sample(TTJets_SemiLept, /hdfs/local/stpol/step3/37acf5_343e0a9_Aug22/mu//mc/iso/nominal/Jul15/TTJets_SemiLept.root)>,\n",
        " 'T_t_ToLeptons': <Sample(T_t_ToLeptons, /hdfs/local/stpol/step3/37acf5_343e0a9_Aug22/mu//mc/iso/nominal/Jul15/T_t_ToLeptons.root)>,\n",
        " 'Tbar_t_ToLeptons': <Sample(Tbar_t_ToLeptons, /hdfs/local/stpol/step3/37acf5_343e0a9_Aug22/mu//mc/iso/nominal/Jul15/Tbar_t_ToLeptons.root)>}"
       ]
      }
     ],
     "prompt_number": 13
    },
    {
     "cell_type": "code",
     "collapsed": false,
     "input": [
      "hists = dict()\n",
      "draw = lambda x: x.drawHistogram2D(\"cos_theta\", \"abs(mu_eta)\",\n",
      "        str(Cuts.lepton(\"mu\")*Cuts.metmt(\"mu\") * Cuts.hlt(\"mu\")*Cuts.n_jets(2)*Cuts.n_tags(1)*Cuts.mva_wp(\"mu\")),\n",
      "        binning_x=[10, -1, 1], binning_y=[10, 0, 2.5]\n",
      ")\n",
      "for k, v in samples.items():\n",
      "    hists[k] = draw(v)\n",
      "    if v.isMC:\n",
      "        hists[k].Scale(v.lumiScaleFactor(20000))\n",
      "print \"Projected %d histograms\" % len(hists)"
     ],
     "language": "python",
     "metadata": {},
     "outputs": [
      {
       "output_type": "stream",
       "stream": "stdout",
       "text": [
        "Projected 4 histograms\n"
       ]
      }
     ],
     "prompt_number": 7
    },
    {
     "cell_type": "code",
     "collapsed": false,
     "input": [
      "sample_groups = {\n",
      "    \"ttbar\": hists[\"TTJets_SemiLept\"]+hists[\"TTJets_FullLept\"],\n",
      "    \"tchan\": hists[\"T_t_ToLeptons\"]+hists[\"Tbar_t_ToLeptons\"],\n",
      "    \"data\": sum([h for k, h in hists.items() if k.startswith(\"Single\")])\n",
      "}"
     ],
     "language": "python",
     "metadata": {},
     "outputs": [],
     "prompt_number": 10
    },
    {
     "cell_type": "code",
     "collapsed": false,
     "input": [
      "#hi = hists[\"T_t_ToLeptons\"]+hists[\"Tbar_t_ToLeptons\"]\n",
      "#hi = hists[\"T_t_ToLeptons\"]+hists[\"Tbar_t_ToLeptons\"]\n",
      "\n",
      "def draw_process(name):\n",
      "    hi = sample_groups[name]\n",
      "    \n",
      "    tdrstyle()\n",
      "    c = ROOT.TCanvas()\n",
      "    hi.GetXaxis().SetTitle(\"cos #theta\")\n",
      "    hi.GetYaxis().SetTitle(\"#eta_{lepton}\")\n",
      "    #hi.GetYaxis().SetTitle(\"I_{rel, lepton}\")\n",
      "    hi.Draw(\"COL\")\n",
      "    hi.SetTitle(name)\n",
      "    ROOT.gStyle.SetPalette(55)\n",
      "    #c.SetLogz()\n",
      "    print \"N=%d\" % hi.GetEntries(), \"int=%.2f\" % hi.Integral()\n",
      "    print \"corr=%.5f\" % hi.GetCorrelationFactor(), \"cov=%.5f\" % hi.GetCovariance()\n",
      "    return ipy_show_canv(c), hi"
     ],
     "language": "python",
     "metadata": {},
     "outputs": []
    },
    {
     "cell_type": "heading",
     "level": 1,
     "metadata": {},
     "source": [
      "Analyzing the correlations"
     ]
    },
    {
     "cell_type": "heading",
     "level": 2,
     "metadata": {},
     "source": [
      "Data"
     ]
    },
    {
     "cell_type": "code",
     "collapsed": false,
     "input": [
      "pic, hi = draw_process(\"data\")\n",
      "pic"
     ],
     "language": "python",
     "metadata": {},
     "outputs": []
    },
    {
     "cell_type": "heading",
     "level": 2,
     "metadata": {},
     "source": [
      "TTBar"
     ]
    },
    {
     "cell_type": "code",
     "collapsed": false,
     "input": [
      "pic, hi = draw_process(\"ttbar\")\n",
      "pic"
     ],
     "language": "python",
     "metadata": {},
     "outputs": []
    },
    {
     "cell_type": "heading",
     "level": 2,
     "metadata": {},
     "source": [
      "signal (t-channel)"
     ]
    },
    {
     "cell_type": "code",
     "collapsed": false,
     "input": [
      "pic, hi = draw_process(\"tchan\")\n",
      "pic"
     ],
     "language": "python",
     "metadata": {},
     "outputs": []
    },
    {
     "cell_type": "code",
     "collapsed": false,
     "input": [
      "sgs = [\n",
      "    (\"tchan\", [\"T_t_ToLeptons\", \"Tbar_t_ToLeptons\"]),\n",
      "    (\"ttbar\", [\"TTJets_FullLept\", \"TTJets_SemiLept\"]),\n",
      "    (\"data\", [\"SingleMu1\", \"SingleMu2\", \"SingleMu3\", \"SingleMu_miss\"])\n",
      "]"
     ],
     "language": "python",
     "metadata": {},
     "outputs": [],
     "prompt_number": 11
    },
    {
     "cell_type": "code",
     "collapsed": false,
     "input": [
      "dpoints = dict()\n",
      "for sn, slist in sgs:\n",
      "    x = []\n",
      "    y = []\n",
      "    errs = []\n",
      "    print sn\n",
      "    for cut in np.linspace(-0.8, 0.5, 20):\n",
      "        draw = lambda x: x.drawHistogram2D(\"cos_theta\", \"abs(mu_eta)\",\n",
      "            str(Cuts.lepton(\"mu\")*Cuts.metmt(\"mu\") * Cuts.hlt(\"mu\")*Cuts.n_jets(2)*Cuts.n_tags(1)*Cuts.mva_wp(\"mu\", cut)),\n",
      "            binning_x=[100, -1, 1], binning_y=[100, 0.0, 2.5]\n",
      "        )\n",
      "        hists = [draw(samples[k]) for k in slist]\n",
      "        hi = reduce(lambda x,y: x+y, hists)\n",
      "        rho = hi.GetCorrelationFactor()\n",
      "        err_rho = (1-rho**2)**2/math.sqrt(hi.GetEntries()-1)\n",
      "        x.append(cut)\n",
      "        y.append(rho)\n",
      "        errs.append(err_rho)\n",
      "        print cut, rho, err_rho\n",
      "    dpoints[sn] = x, y, errs"
     ],
     "language": "python",
     "metadata": {},
     "outputs": []
    },
    {
     "cell_type": "code",
     "collapsed": false,
     "input": [
      "from plots.common.mpl_tdrstyle import plt\n",
      "%matplotlib inline\n",
      "\n",
      "fig = plt.figure(\n",
      "    figsize=(10,10)\n",
      ")\n",
      "\n",
      "ax = plt.axes()\n",
      "ax.set_title(\"Correlation dependence on the BDT WP, muon channel\")\n",
      "ax.grid(which=\"both\")\n",
      "#ax.set_ylabel(r\"correlation factor $\\rho(\\cos \\theta, I_{rel, lepton})$\", fontsize=16)\n",
      "ax.set_ylabel(r\"correlation factor $\\rho(\\cos \\theta, |\\eta_{lepton}|)$\", fontsize=16)\n",
      "ax.set_xlabel(\"BDT cut value\", fontsize=16)\n",
      "ax.set_ylim(-0.0, 0.3)\n",
      "ax.axvline(Cuts.mva_wps['bdt']['mu']['loose'], color=\"black\", label=\"BDT loose WP\", linewidth=2, ls='--')\n",
      "dit = dpoints.items()\n",
      "legit = []\n",
      "for sn, args in dit:\n",
      "    ax.errorbar(*args, label=sn)\n",
      "    legit.append(sn)\n",
      "leg = ax.legend()"
     ],
     "language": "python",
     "metadata": {},
     "outputs": []
    },
    {
     "cell_type": "code",
     "collapsed": false,
     "input": [
      "a = \"a\"\n",
      "b = \"b\"\n",
      "c = \"c\"\n",
      "for k in [a, b, c]:\n",
      "    k = k+k"
     ],
     "language": "python",
     "metadata": {},
     "outputs": []
    },
    {
     "cell_type": "code",
     "collapsed": false,
     "input": [
      "def mu_pt(c):\n",
      "    return Cut(\"mu_pt > %f\" % c)\n",
      "mu_pt(10)"
     ],
     "language": "python",
     "metadata": {},
     "outputs": [
      {
       "metadata": {},
       "output_type": "pyout",
       "prompt_number": 8,
       "text": [
        "<Cut(mu_pt > 10.000000)>"
       ]
      }
     ],
     "prompt_number": 8
    },
    {
     "cell_type": "code",
     "collapsed": false,
     "input": [
      "dpoints = dict()\n",
      "for sn, slist in sgs:\n",
      "    x = []\n",
      "    y = []\n",
      "    errs = []\n",
      "    print sn\n",
      "    for cut in np.linspace(25, 80, 20):\n",
      "        draw = lambda x: x.drawHistogram2D(\"cos_theta\", \"abs(mu_eta)\",\n",
      "            str(Cuts.lepton(\"mu\")*Cuts.metmt(\"mu\") * Cuts.hlt(\"mu\")*Cuts.n_jets(2)*Cuts.n_tags(1)*Cuts.mva_wp(\"mu\")*mu_pt(cut)),\n",
      "            binning_x=[100, -1, 1], binning_y=[100, 0.0, 2.5]\n",
      "        )\n",
      "        hists = [draw(samples[k]) for k in slist]\n",
      "        hi = reduce(lambda x,y: x+y, hists)\n",
      "        rho = hi.GetCorrelationFactor()\n",
      "        err_rho = (1-rho**2)**2/math.sqrt(hi.GetEntries()-1)\n",
      "        x.append(cut)\n",
      "        y.append(rho)\n",
      "        errs.append(err_rho)\n",
      "        print cut, rho, err_rho\n",
      "    dpoints[sn] = x, y, errs\n"
     ],
     "language": "python",
     "metadata": {},
     "outputs": [
      {
       "output_type": "stream",
       "stream": "stdout",
       "text": [
        "tchan\n",
        "25.0"
       ]
      },
      {
       "output_type": "stream",
       "stream": "stdout",
       "text": [
        " 0.17094216464 0.00559652002635\n",
        "27.8947368421"
       ]
      },
      {
       "output_type": "stream",
       "stream": "stdout",
       "text": [
        " 0.171116606093 0.0057798669023\n",
        "30.7894736842"
       ]
      },
      {
       "output_type": "stream",
       "stream": "stdout",
       "text": [
        " 0.166847846289 0.00612783784175\n",
        "33.6842105263"
       ]
      },
      {
       "output_type": "stream",
       "stream": "stdout",
       "text": [
        " 0.162977417332 0.00651324655005\n",
        "36.5789473684"
       ]
      },
      {
       "output_type": "stream",
       "stream": "stdout",
       "text": [
        " 0.163293413805 0.0069450450148\n",
        "39.4736842105"
       ]
      },
      {
       "output_type": "stream",
       "stream": "stdout",
       "text": [
        " 0.161702647093 0.00745285187175\n",
        "42.3684210526"
       ]
      },
      {
       "output_type": "stream",
       "stream": "stdout",
       "text": [
        " 0.161948830001 0.00802780557206\n",
        "45.2631578947"
       ]
      },
      {
       "output_type": "stream",
       "stream": "stdout",
       "text": [
        " 0.159266942076 0.00870015135331\n",
        "48.1578947368"
       ]
      },
      {
       "output_type": "stream",
       "stream": "stdout",
       "text": [
        " 0.160136102242 0.00940293416273\n",
        "51.0526315789"
       ]
      },
      {
       "output_type": "stream",
       "stream": "stdout",
       "text": [
        " 0.1520731182 0.0102640678688\n",
        "53.9473684211"
       ]
      },
      {
       "output_type": "stream",
       "stream": "stdout",
       "text": [
        " 0.135289415271 0.0112989536982\n",
        "56.8421052632"
       ]
      },
      {
       "output_type": "stream",
       "stream": "stdout",
       "text": [
        " 0.134709167077 0.0123900233275\n",
        "59.7368421053"
       ]
      },
      {
       "output_type": "stream",
       "stream": "stdout",
       "text": [
        " 0.130772319436 0.0135679256077\n",
        "62.6315789474"
       ]
      },
      {
       "output_type": "stream",
       "stream": "stdout",
       "text": [
        " 0.124594802608 0.0148649972474\n",
        "65.5263157895"
       ]
      },
      {
       "output_type": "stream",
       "stream": "stdout",
       "text": [
        " 0.106345800625 0.0164852808845\n",
        "68.4210526316"
       ]
      },
      {
       "output_type": "stream",
       "stream": "stdout",
       "text": [
        " 0.0869759830993 0.0182456578475\n",
        "71.3157894737"
       ]
      },
      {
       "output_type": "stream",
       "stream": "stdout",
       "text": [
        " 0.0684279713077 0.0202006729815\n",
        "74.2105263158"
       ]
      },
      {
       "output_type": "stream",
       "stream": "stdout",
       "text": [
        " 0.0723796280558 0.0220718957996\n",
        "77.1052631579"
       ]
      },
      {
       "output_type": "stream",
       "stream": "stdout",
       "text": [
        " 0.0661289252826 0.0245980278183\n",
        "80.0"
       ]
      },
      {
       "output_type": "stream",
       "stream": "stdout",
       "text": [
        " 0.0775105546186 0.0272875492035\n",
        "ttbar\n",
        "25.0"
       ]
      },
      {
       "output_type": "stream",
       "stream": "stdout",
       "text": [
        " 0.214792902568 0.0095885995524\n",
        "27.8947368421"
       ]
      },
      {
       "output_type": "stream",
       "stream": "stdout",
       "text": [
        " 0.214671399182 0.00993375808077\n",
        "30.7894736842"
       ]
      },
      {
       "output_type": "stream",
       "stream": "stdout",
       "text": [
        " 0.214353586704 0.0105095713109\n",
        "33.6842105263"
       ]
      },
      {
       "output_type": "stream",
       "stream": "stdout",
       "text": [
        " 0.215213750014 0.0111640612757\n",
        "36.5789473684"
       ]
      },
      {
       "output_type": "stream",
       "stream": "stdout",
       "text": [
        " 0.2124763558 0.0119164638791\n",
        "39.4736842105"
       ]
      },
      {
       "output_type": "stream",
       "stream": "stdout",
       "text": [
        " 0.211500964649 0.0127981468859\n",
        "42.3684210526"
       ]
      },
      {
       "output_type": "stream",
       "stream": "stdout",
       "text": [
        " 0.214620291813 0.0137374810903\n",
        "45.2631578947"
       ]
      },
      {
       "output_type": "stream",
       "stream": "stdout",
       "text": [
        " 0.200636956229 0.0150017136357\n",
        "48.1578947368"
       ]
      },
      {
       "output_type": "stream",
       "stream": "stdout",
       "text": [
        " 0.193068885981 0.0162229148161\n",
        "51.0526315789"
       ]
      },
      {
       "output_type": "stream",
       "stream": "stdout",
       "text": [
        " 0.183268960257 0.0178487721204\n",
        "53.9473684211"
       ]
      },
      {
       "output_type": "stream",
       "stream": "stdout",
       "text": [
        " 0.193682281302 0.0194521843394\n",
        "56.8421052632"
       ]
      },
      {
       "output_type": "stream",
       "stream": "stdout",
       "text": [
        " 0.167646423334 0.0216473597606\n",
        "59.7368421053"
       ]
      },
      {
       "output_type": "stream",
       "stream": "stdout",
       "text": [
        " 0.15871859553 0.0236897517854\n",
        "62.6315789474"
       ]
      },
      {
       "output_type": "stream",
       "stream": "stdout",
       "text": [
        " 0.164363611912 0.025737303118\n",
        "65.5263157895"
       ]
      },
      {
       "output_type": "stream",
       "stream": "stdout",
       "text": [
        " 0.155971855587 0.0284065505518\n",
        "68.4210526316"
       ]
      },
      {
       "output_type": "stream",
       "stream": "stdout",
       "text": [
        " 0.156120143431 0.031364427296\n",
        "71.3157894737"
       ]
      },
      {
       "output_type": "stream",
       "stream": "stdout",
       "text": [
        " 0.143938446633 0.0348321831936\n",
        "74.2105263158"
       ]
      },
      {
       "output_type": "stream",
       "stream": "stdout",
       "text": [
        " 0.126399628068 0.0387320611318\n",
        "77.1052631579"
       ]
      },
      {
       "output_type": "stream",
       "stream": "stdout",
       "text": [
        " 0.139432687222 0.0416469724632\n",
        "80.0"
       ]
      },
      {
       "output_type": "stream",
       "stream": "stdout",
       "text": [
        " 0.10703590448 0.0469620946008\n",
        "data\n",
        "25.0"
       ]
      },
      {
       "output_type": "stream",
       "stream": "stdout",
       "text": [
        " 0.143636733483 0.0136995278467\n",
        "27.8947368421"
       ]
      },
      {
       "output_type": "stream",
       "stream": "stdout",
       "text": [
        " 0.149110634531 0.0141373912992\n",
        "30.7894736842"
       ]
      },
      {
       "output_type": "stream",
       "stream": "stdout",
       "text": [
        " 0.151521604788 0.0150392827406\n",
        "33.6842105263"
       ]
      },
      {
       "output_type": "stream",
       "stream": "stdout",
       "text": [
        " 0.153013494936 0.0158953652562\n",
        "36.5789473684"
       ]
      },
      {
       "output_type": "stream",
       "stream": "stdout",
       "text": [
        " 0.149977526228 0.0170492608099\n",
        "39.4736842105"
       ]
      },
      {
       "output_type": "stream",
       "stream": "stdout",
       "text": [
        " 0.146154823754 0.0183975582268\n",
        "42.3684210526"
       ]
      },
      {
       "output_type": "stream",
       "stream": "stdout",
       "text": [
        " 0.134156030161 0.019999236084\n",
        "45.2631578947"
       ]
      },
      {
       "output_type": "stream",
       "stream": "stdout",
       "text": [
        " 0.129551783201 0.021573286777\n",
        "48.1578947368"
       ]
      },
      {
       "output_type": "stream",
       "stream": "stdout",
       "text": [
        " 0.133334452626 0.0232691923086\n",
        "51.0526315789"
       ]
      },
      {
       "output_type": "stream",
       "stream": "stdout",
       "text": [
        " 0.118146150009 0.0255685576473\n",
        "53.9473684211"
       ]
      },
      {
       "output_type": "stream",
       "stream": "stdout",
       "text": [
        " 0.123204621744 0.0277106187401\n",
        "56.8421052632"
       ]
      },
      {
       "output_type": "stream",
       "stream": "stdout",
       "text": [
        " 0.129422791462 0.0304961243996\n",
        "59.7368421053"
       ]
      },
      {
       "output_type": "stream",
       "stream": "stdout",
       "text": [
        " 0.105297845578 0.0338028162207\n",
        "62.6315789474"
       ]
      },
      {
       "output_type": "stream",
       "stream": "stdout",
       "text": [
        " 0.101114169389 0.0374034544415\n",
        "65.5263157895"
       ]
      },
      {
       "output_type": "stream",
       "stream": "stdout",
       "text": [
        " 0.103820574292 0.0403208111585\n",
        "68.4210526316"
       ]
      },
      {
       "output_type": "stream",
       "stream": "stdout",
       "text": [
        " 0.124288296031 0.0435687487945\n",
        "71.3157894737"
       ]
      },
      {
       "output_type": "stream",
       "stream": "stdout",
       "text": [
        " 0.107066011928 0.0493563130143\n",
        "74.2105263158"
       ]
      },
      {
       "output_type": "stream",
       "stream": "stdout",
       "text": [
        " 0.135169903232 0.0535440011337\n",
        "77.1052631579"
       ]
      },
      {
       "output_type": "stream",
       "stream": "stdout",
       "text": [
        " 0.110619194917 0.060861029282\n",
        "80.0"
       ]
      },
      {
       "output_type": "stream",
       "stream": "stdout",
       "text": [
        " 0.048487945166 0.0680375374069\n"
       ]
      }
     ],
     "prompt_number": 23
    },
    {
     "cell_type": "code",
     "collapsed": false,
     "input": [
      "dpoints"
     ],
     "language": "python",
     "metadata": {},
     "outputs": [
      {
       "metadata": {},
       "output_type": "pyout",
       "prompt_number": 24,
       "text": [
        "{'data': ([25.0,\n",
        "   27.894736842105264,\n",
        "   30.789473684210527,\n",
        "   33.684210526315788,\n",
        "   36.578947368421055,\n",
        "   39.473684210526315,\n",
        "   42.368421052631575,\n",
        "   45.263157894736842,\n",
        "   48.15789473684211,\n",
        "   51.05263157894737,\n",
        "   53.94736842105263,\n",
        "   56.842105263157897,\n",
        "   59.736842105263158,\n",
        "   62.631578947368425,\n",
        "   65.526315789473685,\n",
        "   68.421052631578959,\n",
        "   71.31578947368422,\n",
        "   74.21052631578948,\n",
        "   77.10526315789474,\n",
        "   80.0],\n",
        "  [0.1436367334825455,\n",
        "   0.1491106345311887,\n",
        "   0.15152160478813642,\n",
        "   0.15301349493624605,\n",
        "   0.14997752622839178,\n",
        "   0.14615482375371178,\n",
        "   0.13415603016050595,\n",
        "   0.12955178320138605,\n",
        "   0.13333445262567573,\n",
        "   0.11814615000928651,\n",
        "   0.1232046217436458,\n",
        "   0.12942279146188673,\n",
        "   0.10529784557836652,\n",
        "   0.10111416938941072,\n",
        "   0.10382057429200103,\n",
        "   0.12428829603081233,\n",
        "   0.10706601192825894,\n",
        "   0.13516990323199315,\n",
        "   0.11061919491696928,\n",
        "   0.04848794516604301],\n",
        "  [0.013699527846699543,\n",
        "   0.014137391299174679,\n",
        "   0.01503928274059371,\n",
        "   0.015895365256233068,\n",
        "   0.01704926080985575,\n",
        "   0.01839755822676793,\n",
        "   0.019999236083989885,\n",
        "   0.021573286776978073,\n",
        "   0.02326919230859411,\n",
        "   0.025568557647282768,\n",
        "   0.02771061874009545,\n",
        "   0.030496124399569904,\n",
        "   0.03380281622070301,\n",
        "   0.0374034544414548,\n",
        "   0.04032081115852087,\n",
        "   0.04356874879452188,\n",
        "   0.04935631301430273,\n",
        "   0.05354400113374625,\n",
        "   0.0608610292820362,\n",
        "   0.06803753740687976]),\n",
        " 'tchan': ([25.0,\n",
        "   27.894736842105264,\n",
        "   30.789473684210527,\n",
        "   33.684210526315788,\n",
        "   36.578947368421055,\n",
        "   39.473684210526315,\n",
        "   42.368421052631575,\n",
        "   45.263157894736842,\n",
        "   48.15789473684211,\n",
        "   51.05263157894737,\n",
        "   53.94736842105263,\n",
        "   56.842105263157897,\n",
        "   59.736842105263158,\n",
        "   62.631578947368425,\n",
        "   65.526315789473685,\n",
        "   68.421052631578959,\n",
        "   71.31578947368422,\n",
        "   74.21052631578948,\n",
        "   77.10526315789474,\n",
        "   80.0],\n",
        "  [0.1709421646397717,\n",
        "   0.17111660609283688,\n",
        "   0.16684784628881816,\n",
        "   0.1629774173323134,\n",
        "   0.16329341380481183,\n",
        "   0.1617026470930661,\n",
        "   0.16194883000148325,\n",
        "   0.15926694207608835,\n",
        "   0.16013610224152708,\n",
        "   0.15207311819963826,\n",
        "   0.13528941527059019,\n",
        "   0.13470916707716607,\n",
        "   0.1307723194362411,\n",
        "   0.12459480260824699,\n",
        "   0.10634580062468298,\n",
        "   0.08697598309928772,\n",
        "   0.06842797130770012,\n",
        "   0.07237962805578503,\n",
        "   0.0661289252825641,\n",
        "   0.07751055461859982],\n",
        "  [0.005596520026353137,\n",
        "   0.005779866902301818,\n",
        "   0.006127837841747375,\n",
        "   0.006513246550047128,\n",
        "   0.006945045014803213,\n",
        "   0.00745285187175357,\n",
        "   0.008027805572063507,\n",
        "   0.008700151353305943,\n",
        "   0.009402934162725765,\n",
        "   0.010264067868806905,\n",
        "   0.011298953698151815,\n",
        "   0.012390023327524249,\n",
        "   0.013567925607683638,\n",
        "   0.014864997247413098,\n",
        "   0.016485280884502688,\n",
        "   0.018245657847458963,\n",
        "   0.020200672981455566,\n",
        "   0.022071895799616298,\n",
        "   0.02459802781826116,\n",
        "   0.027287549203539194]),\n",
        " 'ttbar': ([25.0,\n",
        "   27.894736842105264,\n",
        "   30.789473684210527,\n",
        "   33.684210526315788,\n",
        "   36.578947368421055,\n",
        "   39.473684210526315,\n",
        "   42.368421052631575,\n",
        "   45.263157894736842,\n",
        "   48.15789473684211,\n",
        "   51.05263157894737,\n",
        "   53.94736842105263,\n",
        "   56.842105263157897,\n",
        "   59.736842105263158,\n",
        "   62.631578947368425,\n",
        "   65.526315789473685,\n",
        "   68.421052631578959,\n",
        "   71.31578947368422,\n",
        "   74.21052631578948,\n",
        "   77.10526315789474,\n",
        "   80.0],\n",
        "  [0.21479290256817013,\n",
        "   0.2146713991816671,\n",
        "   0.21435358670403012,\n",
        "   0.21521375001395227,\n",
        "   0.21247635579999288,\n",
        "   0.211500964648904,\n",
        "   0.214620291813307,\n",
        "   0.20063695622881617,\n",
        "   0.19306888598138816,\n",
        "   0.1832689602574223,\n",
        "   0.1936822813015873,\n",
        "   0.16764642333404195,\n",
        "   0.1587185955303089,\n",
        "   0.16436361191246113,\n",
        "   0.1559718555866793,\n",
        "   0.15612014343123495,\n",
        "   0.14393844663280372,\n",
        "   0.12639962806771443,\n",
        "   0.1394326872224662,\n",
        "   0.10703590448045969],\n",
        "  [0.009588599552398923,\n",
        "   0.009933758080767586,\n",
        "   0.010509571310885278,\n",
        "   0.011164061275673603,\n",
        "   0.01191646387909764,\n",
        "   0.012798146885930367,\n",
        "   0.013737481090330867,\n",
        "   0.015001713635654104,\n",
        "   0.01622291481614179,\n",
        "   0.01784877212037895,\n",
        "   0.019452184339362636,\n",
        "   0.021647359760614444,\n",
        "   0.023689751785374816,\n",
        "   0.025737303117962594,\n",
        "   0.02840655055177082,\n",
        "   0.03136442729604971,\n",
        "   0.03483218319361093,\n",
        "   0.03873206113180364,\n",
        "   0.04164697246315301,\n",
        "   0.04696209460081261])}"
       ]
      }
     ],
     "prompt_number": 24
    },
    {
     "cell_type": "code",
     "collapsed": false,
     "input": [
      "from plots.common.mpl_tdrstyle import plt\n",
      "%matplotlib inline\n",
      "\n",
      "fig = plt.figure(\n",
      "    figsize=(10,10)\n",
      ")\n",
      "\n",
      "ax = plt.axes()\n",
      "ax.set_title(\"Correlation dependence on the lepton $p_t$, muon channel\")\n",
      "ax.grid(which=\"both\")\n",
      "#ax.set_ylabel(r\"correlation factor $\\rho(\\cos \\theta, I_{rel, lepton})$\", fontsize=16)\n",
      "ax.set_ylabel(r\"correlation factor $\\rho(\\cos \\theta, |\\eta_{lepton}|)$\", fontsize=16)\n",
      "ax.set_xlabel(\"lepton $p_t$ cut value\", fontsize=16)\n",
      "ax.set_ylim(-0.0, 0.3)\n",
      "#ax.axvline(Cuts.mva_wps['bdt']['mu']['loose'], color=\"black\", label=\"BDT loose WP\", linewidth=2, ls='--')\n",
      "dit = dpoints.items()\n",
      "legit = []\n",
      "for sn, args in dit:\n",
      "    ax.errorbar(*args, label=sn)\n",
      "    legit.append(sn)\n",
      "leg = ax.legend()"
     ],
     "language": "python",
     "metadata": {},
     "outputs": [
      {
       "metadata": {},
       "output_type": "display_data",
       "png": "[encoded data removed]",
       "text": [
        "<matplotlib.figure.Figure at 0x426f3d0>"
       ]
      }
     ],
     "prompt_number": 25
    },
    {
     "cell_type": "code",
     "collapsed": false,
     "input": [],
     "language": "python",
     "metadata": {},
     "outputs": []
    }
   ],
   "metadata": {}
  }
 ]
}