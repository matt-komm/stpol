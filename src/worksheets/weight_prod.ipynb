{
 "metadata": {
  "name": ""
 },
 "nbformat": 3,
 "nbformat_minor": 0,
 "worksheets": [
  {
   "cells": [
    {
     "cell_type": "code",
     "collapsed": false,
     "input": [
      "from plots.common.sample import Sample\n",
      "from plots.common.cuts import Cuts\n",
      "from plots.common.hist_plots import hist_err\n",
      "from rootpy.plotting import Hist\n",
      "import root_numpy\n",
      "from matplotlib import rc\n",
      "rc('font',**{'family':'sans-serif','sans-serif':['Arial']})\n",
      "rc('text', usetex=True)\n",
      "from matplotlib import pyplot as plt"
     ],
     "language": "python",
     "metadata": {},
     "outputs": []
    },
    {
     "cell_type": "code",
     "collapsed": false,
     "input": [
      "s = Sample.fromFile(\"/home/joosep/singletop/stpol/Aug4_0eb863_full/mu/mc/iso/nominal/Jul15/TTJets_FullLept.root\")"
     ],
     "language": "python",
     "metadata": {},
     "outputs": []
    },
    {
     "cell_type": "code",
     "collapsed": false,
     "input": [
      "def weight_hist(cv):\n",
      "    weights = root_numpy.tree2rec(s.tree,\n",
      "        branches=[\"pu_weight\", \"b_weight_nominal\", \"muon_IsoWeight\", \"muon_IDWeight\", \"muon_TriggerWeight\"],\n",
      "        selection=str(\n",
      "            Cuts.hlt(\"mu\")*Cuts.lepton(\"mu\")*Cuts.n_jets(2)*Cuts.n_tags(1)*Cuts.mva_cut(cv, Cuts.mva_vars[\"mu\"])\n",
      "        )\n",
      "    )\n",
      "    wmult = weights[\"pu_weight\"]*weights[\"b_weight_nominal\"]*weights[\"muon_IsoWeight\"]*weights[\"muon_IDWeight\"]*weights[\"muon_TriggerWeight\"]\n",
      "    h = Hist(100, 0, 2)\n",
      "    for w in wmult:\n",
      "        h.Fill(w)\n",
      "    return h"
     ],
     "language": "python",
     "metadata": {},
     "outputs": []
    },
    {
     "cell_type": "code",
     "collapsed": false,
     "input": [
      "hists = {}\n",
      "for cv in [0.1, 0.2, 0.3, 0.4, 0.5, 0.6]:\n",
      "    h = weight_hist(cv)\n",
      "    hists[str(cv)] = h"
     ],
     "language": "python",
     "metadata": {},
     "outputs": []
    },
    {
     "cell_type": "code",
     "collapsed": false,
     "input": [
      "fig = plt.figure(figsize=(10, 10), dpi=500, facecolor='white')\n",
      "ax = plt.axes([0.15, 0.15, 0.8, 0.8])\n",
      "ax.set_xlabel(r\"$$\\mathbf{\\Pi_i w_i}$$\")\n",
      "print \"BDT cut | mean w | RMS w\"\n",
      "its = hists.items()\n",
      "legs = []\n",
      "for k, v in its:\n",
      "    v.Scale(100.0/v.Integral())\n",
      "    print \"%s | %2f | %.2f \" % (k, v.GetMean(), v.GetRMS())\n",
      "    hist_err(ax, v)\n",
      "    legs += [r\"$\\textbf{BDT} > \" + k + \"$\"]\n",
      "leg = legend(legs)"
     ],
     "language": "python",
     "metadata": {},
     "outputs": []
    }
   ],
   "metadata": {}
  }
 ]
}